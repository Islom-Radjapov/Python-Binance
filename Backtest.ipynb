{
 "cells": [
  {
   "cell_type": "code",
   "execution_count": 45,
   "metadata": {
    "collapsed": true
   },
   "outputs": [],
   "source": [
    "from datetime import datetime, timedelta\n",
    "from backtesting import Backtest, Strategy\n",
    "import pandas as pd\n",
    "import ta\n",
    "import numpy as np\n",
    "import ta\n",
    "from binance.client import Client\n",
    "import ccxt\n",
    "import mplfinance as mpf\n",
    "import numpy as np\n",
    "from math import floor\n",
    "import matplotlib.pyplot as plt\n",
    "import plotly.graph_objects as go\n",
    "import config\n",
    "\n",
    "client = Client(config.api_key, config.api_secret)\n",
    "# Create Binance client instance\n",
    "# exchange = ccxt.binance({\n",
    "#     'apiKey': config.api_key,\n",
    "#     'secret': config.api_secret,\n",
    "# })"
   ]
  },
  {
   "cell_type": "code",
   "execution_count": 46,
   "outputs": [],
   "source": [
    "def get_candle_1m_after(time):\n",
    "    start = str(time)\n",
    "    end = str(time + timedelta(hours=5))\n",
    "    df = pd.DataFrame(client.get_historical_klines(symbol=\"BNBUSDT\", interval='1m', start_str=start, end_str=end))\n",
    "    df = df.iloc[:, :5]\n",
    "    df.columns = ['time', 'open', 'high', 'low', 'close']\n",
    "    df = df.set_index('time')\n",
    "    df.index = pd.to_datetime(df.index, unit='ms')\n",
    "    df = df.astype(float)\n",
    "    return df\n",
    "\n",
    "def get_candle_1h_before(time):\n",
    "    start = str(time - timedelta(hours=5))\n",
    "    end = str(time)\n",
    "    df = pd.DataFrame(client.get_historical_klines(symbol=\"BNBUSDT\", interval='1h', start_str=start, end_str=end))\n",
    "    df = df.iloc[:, :5]\n",
    "    df.columns = ['time', 'open', 'high', 'low', 'close']\n",
    "    df = df.set_index('time')\n",
    "    df.index = pd.to_datetime(df.index, unit='ms')\n",
    "    df = df.astype(float)\n",
    "    return df"
   ],
   "metadata": {
    "collapsed": false
   }
  },
  {
   "cell_type": "code",
   "execution_count": 63,
   "outputs": [],
   "source": [
    "def get_macd(price, slow, fast, smooth):\n",
    "    exp1 = price.ewm(span = fast, adjust = False).mean()\n",
    "    exp2 = price.ewm(span = slow, adjust = False).mean()\n",
    "    macd = pd.DataFrame(exp1 - exp2).rename(columns = {'close':'macd'})\n",
    "    signal = pd.DataFrame(macd.ewm(span = smooth, adjust = False).mean()).rename(columns = {'macd':'signal'})\n",
    "    hist = pd.DataFrame(macd['macd'] - signal['signal']).rename(columns = {0:'hist'})\n",
    "    frames =  [macd, signal, hist]\n",
    "    df = pd.concat(frames, join = 'inner', axis = 1)\n",
    "    return df"
   ],
   "metadata": {
    "collapsed": false
   }
  },
  {
   "cell_type": "code",
   "execution_count": 136,
   "outputs": [],
   "source": [
    "def get_data(symbol, interval='1h'):\n",
    "    df = pd.DataFrame(client.get_historical_klines(symbol=symbol, interval=interval))\n",
    "    df = df.iloc[:, :5]\n",
    "    df.columns = ['time', 'open', 'high', 'low', 'close']\n",
    "    df = df.astype(float)\n",
    "    df.time = pd.to_datetime(df.time, unit='ms')\n",
    "    mac = get_macd(df['close'], 26, 12, 9)\n",
    "    ret = pd.concat([df, mac], join = 'inner', axis = 1)\n",
    "    return ret"
   ],
   "metadata": {
    "collapsed": false
   }
  },
  {
   "cell_type": "code",
   "execution_count": 111,
   "outputs": [],
   "source": [
    "def get_signal(data):\n",
    "    buy_price = []\n",
    "    macd_signal = []\n",
    "\n",
    "    for i in range(len(data)):\n",
    "        try:\n",
    "            if data['macd'][i-1] < data['signal'][i-1]:\n",
    "                if data['macd'][i] > data['signal'][i]:\n",
    "                    buy_price.append(data.iloc[i].close)\n",
    "                    macd_signal.append(1)\n",
    "                else:\n",
    "                    buy_price.append(np.nan)\n",
    "                    macd_signal.append(0)\n",
    "            else:\n",
    "                buy_price.append(np.nan)\n",
    "                macd_signal.append(0)\n",
    "        except:\n",
    "                buy_price.append(np.nan)\n",
    "                macd_signal.append(0)\n",
    "    return pd.DataFrame({\"buy_price\": buy_price, \"macd_signal\": macd_signal})"
   ],
   "metadata": {
    "collapsed": false
   }
  },
  {
   "cell_type": "code",
   "execution_count": 131,
   "outputs": [],
   "source": [
    "def implement_macd_strategy(prices, data):\n",
    "    buy_price = []\n",
    "    sell_price = []\n",
    "    macd_signal = []\n",
    "    signal = 0\n",
    "\n",
    "    for i in range(len(data)):\n",
    "        if data['macd'][i] > data['signal'][i]:\n",
    "            if signal != 1:\n",
    "                buy_price.append(prices[i])\n",
    "                sell_price.append(np.nan)\n",
    "                signal = 1\n",
    "                macd_signal.append(signal)\n",
    "            else:\n",
    "                buy_price.append(np.nan)\n",
    "                sell_price.append(np.nan)\n",
    "                macd_signal.append(0)\n",
    "        elif data['macd'][i] < data['signal'][i]:\n",
    "            if signal != -1:\n",
    "                buy_price.append(np.nan)\n",
    "                sell_price.append(prices[i])\n",
    "                signal = -1\n",
    "                macd_signal.append(signal)\n",
    "            else:\n",
    "                buy_price.append(np.nan)\n",
    "                sell_price.append(np.nan)\n",
    "                macd_signal.append(0)\n",
    "        else:\n",
    "            buy_price.append(np.nan)\n",
    "            sell_price.append(np.nan)\n",
    "            macd_signal.append(0)\n",
    "\n",
    "    return pd.DataFrame( {'buy_price': buy_price, 'sell_price':sell_price, 'macd_signal':macd_signal} )\n",
    "\n",
    "# buy_price, sell_price, macd_signal = implement_macd_strategy(googl['close'], googl_macd)"
   ],
   "metadata": {
    "collapsed": false
   }
  },
  {
   "cell_type": "code",
   "execution_count": 137,
   "outputs": [],
   "source": [
    "df = get_data('BNBUSDT')\n",
    "# signal = get_signal(df)\n",
    "# signal[signal['macd_signal'] == 1]\n",
    "# sig = implement_macd_strategy(df['close'], df)\n",
    "# sig"
   ],
   "metadata": {
    "collapsed": false
   }
  },
  {
   "cell_type": "code",
   "execution_count": 138,
   "outputs": [
    {
     "data": {
      "text/plain": "                   time   open   high    low  close      macd    signal   \n0   2023-03-21 15:00:00  335.2  337.9  335.0  337.7  0.000000  0.000000  \\\n1   2023-03-21 16:00:00  337.8  339.9  336.9  337.5 -0.015954 -0.003191   \n2   2023-03-21 17:00:00  337.5  338.6  336.1  336.4 -0.116022 -0.025757   \n3   2023-03-21 18:00:00  336.4  337.5  335.0  337.2 -0.129282 -0.046462   \n4   2023-03-21 19:00:00  337.1  338.5  336.8  337.9 -0.082358 -0.053641   \n..                  ...    ...    ...    ...    ...       ...       ...   \n995 2023-05-02 03:00:00  326.4  326.4  325.2  325.8 -1.364031 -0.734339   \n996 2023-05-02 04:00:00  325.7  325.8  323.8  324.1 -1.587550 -0.904982   \n997 2023-05-02 05:00:00  324.0  324.6  322.9  324.6 -1.704694 -1.064924   \n998 2023-05-02 06:00:00  324.5  324.8  323.5  324.0 -1.824910 -1.216921   \n999 2023-05-02 07:00:00  324.0  324.8  323.5  324.3 -1.874368 -1.348411   \n\n         hist  \n0    0.000000  \n1   -0.012764  \n2   -0.090265  \n3   -0.082820  \n4   -0.028717  \n..        ...  \n995 -0.629691  \n996 -0.682568  \n997 -0.639770  \n998 -0.607989  \n999 -0.525958  \n\n[1000 rows x 8 columns]",
      "text/html": "<div>\n<style scoped>\n    .dataframe tbody tr th:only-of-type {\n        vertical-align: middle;\n    }\n\n    .dataframe tbody tr th {\n        vertical-align: top;\n    }\n\n    .dataframe thead th {\n        text-align: right;\n    }\n</style>\n<table border=\"1\" class=\"dataframe\">\n  <thead>\n    <tr style=\"text-align: right;\">\n      <th></th>\n      <th>time</th>\n      <th>open</th>\n      <th>high</th>\n      <th>low</th>\n      <th>close</th>\n      <th>macd</th>\n      <th>signal</th>\n      <th>hist</th>\n    </tr>\n  </thead>\n  <tbody>\n    <tr>\n      <th>0</th>\n      <td>2023-03-21 15:00:00</td>\n      <td>335.2</td>\n      <td>337.9</td>\n      <td>335.0</td>\n      <td>337.7</td>\n      <td>0.000000</td>\n      <td>0.000000</td>\n      <td>0.000000</td>\n    </tr>\n    <tr>\n      <th>1</th>\n      <td>2023-03-21 16:00:00</td>\n      <td>337.8</td>\n      <td>339.9</td>\n      <td>336.9</td>\n      <td>337.5</td>\n      <td>-0.015954</td>\n      <td>-0.003191</td>\n      <td>-0.012764</td>\n    </tr>\n    <tr>\n      <th>2</th>\n      <td>2023-03-21 17:00:00</td>\n      <td>337.5</td>\n      <td>338.6</td>\n      <td>336.1</td>\n      <td>336.4</td>\n      <td>-0.116022</td>\n      <td>-0.025757</td>\n      <td>-0.090265</td>\n    </tr>\n    <tr>\n      <th>3</th>\n      <td>2023-03-21 18:00:00</td>\n      <td>336.4</td>\n      <td>337.5</td>\n      <td>335.0</td>\n      <td>337.2</td>\n      <td>-0.129282</td>\n      <td>-0.046462</td>\n      <td>-0.082820</td>\n    </tr>\n    <tr>\n      <th>4</th>\n      <td>2023-03-21 19:00:00</td>\n      <td>337.1</td>\n      <td>338.5</td>\n      <td>336.8</td>\n      <td>337.9</td>\n      <td>-0.082358</td>\n      <td>-0.053641</td>\n      <td>-0.028717</td>\n    </tr>\n    <tr>\n      <th>...</th>\n      <td>...</td>\n      <td>...</td>\n      <td>...</td>\n      <td>...</td>\n      <td>...</td>\n      <td>...</td>\n      <td>...</td>\n      <td>...</td>\n    </tr>\n    <tr>\n      <th>995</th>\n      <td>2023-05-02 03:00:00</td>\n      <td>326.4</td>\n      <td>326.4</td>\n      <td>325.2</td>\n      <td>325.8</td>\n      <td>-1.364031</td>\n      <td>-0.734339</td>\n      <td>-0.629691</td>\n    </tr>\n    <tr>\n      <th>996</th>\n      <td>2023-05-02 04:00:00</td>\n      <td>325.7</td>\n      <td>325.8</td>\n      <td>323.8</td>\n      <td>324.1</td>\n      <td>-1.587550</td>\n      <td>-0.904982</td>\n      <td>-0.682568</td>\n    </tr>\n    <tr>\n      <th>997</th>\n      <td>2023-05-02 05:00:00</td>\n      <td>324.0</td>\n      <td>324.6</td>\n      <td>322.9</td>\n      <td>324.6</td>\n      <td>-1.704694</td>\n      <td>-1.064924</td>\n      <td>-0.639770</td>\n    </tr>\n    <tr>\n      <th>998</th>\n      <td>2023-05-02 06:00:00</td>\n      <td>324.5</td>\n      <td>324.8</td>\n      <td>323.5</td>\n      <td>324.0</td>\n      <td>-1.824910</td>\n      <td>-1.216921</td>\n      <td>-0.607989</td>\n    </tr>\n    <tr>\n      <th>999</th>\n      <td>2023-05-02 07:00:00</td>\n      <td>324.0</td>\n      <td>324.8</td>\n      <td>323.5</td>\n      <td>324.3</td>\n      <td>-1.874368</td>\n      <td>-1.348411</td>\n      <td>-0.525958</td>\n    </tr>\n  </tbody>\n</table>\n<p>1000 rows × 8 columns</p>\n</div>"
     },
     "execution_count": 138,
     "metadata": {},
     "output_type": "execute_result"
    }
   ],
   "source": [
    "df"
   ],
   "metadata": {
    "collapsed": false
   }
  },
  {
   "cell_type": "code",
   "execution_count": 206,
   "outputs": [
    {
     "name": "stdout",
     "output_type": "stream",
     "text": [
      "                      Open   High    Low  Close\n",
      "Time                                           \n",
      "2023-04-29 19:00:00  322.0  323.1  321.9  322.9\n",
      "2023-04-29 20:00:00  322.9  322.9  321.9  322.2\n",
      "2023-04-29 21:00:00  322.3  322.5  321.7  322.0\n",
      "2023-04-29 22:00:00  322.0  322.6  321.7  322.3\n",
      "2023-04-29 23:00:00  322.3  322.4  321.4  321.9\n",
      "2023-04-30 00:00:00  321.9  321.9  320.8  321.0\n"
     ]
    }
   ],
   "source": [
    "for x in range(len(df)):\n",
    "    if signal.iloc[x].macd_signal == 1:\n",
    "        before = get_candle_1h_before(df.iloc[x].name)\n",
    "        print(before)\n",
    "        break"
   ],
   "metadata": {
    "collapsed": false
   }
  },
  {
   "cell_type": "code",
   "execution_count": 119,
   "outputs": [
    {
     "data": {
      "text/plain": "              timestamp   open   high    low  close     volume      macd   \n999 2023-04-30 11:00:00  322.2  322.4  321.6  321.7   3014.644 -0.337669  \\\n998 2023-04-30 10:00:00  322.1  322.6  321.7  322.2   6509.091 -0.343461   \n997 2023-04-30 09:00:00  322.1  322.3  321.7  322.1   4611.320 -0.396768   \n996 2023-04-30 08:00:00  321.5  322.4  321.5  322.0   4693.970 -0.448853   \n995 2023-04-30 07:00:00  322.1  322.4  321.5  321.6   5910.864 -0.498623   \n..                  ...    ...    ...    ...    ...        ...       ...   \n15  2023-03-20 10:00:00  337.3  338.7  336.5  337.3  19655.626 -0.798160   \n14  2023-03-20 09:00:00  337.6  338.2  335.9  337.4  20436.360 -0.961057   \n13  2023-03-20 08:00:00  334.7  338.2  334.2  337.6  39552.105 -1.165175   \n12  2023-03-20 07:00:00  333.5  335.8  333.5  334.7  42475.501 -1.429120   \n11  2023-03-20 06:00:00  334.3  335.5  332.8  333.5  13011.870 -1.449949   \n\n       signal      hist  buy_price  sell_price  macd_signal  \n999 -0.463755  0.126086        NaN         NaN            0  \n998 -0.495277  0.151816        NaN         NaN            0  \n997 -0.533230  0.136463        NaN         NaN            0  \n996 -0.567346  0.118493        NaN         NaN            0  \n995 -0.596969  0.098347        NaN         NaN            0  \n..        ...       ...        ...         ...          ...  \n15  -1.019320  0.221160        NaN         NaN            0  \n14  -1.074610  0.113553      337.4         NaN            1  \n13  -1.102998 -0.062177        NaN         NaN            0  \n12  -1.087454 -0.341666        NaN         NaN            0  \n11  -1.002038 -0.447911        NaN         NaN            0  \n\n[989 rows x 12 columns]",
      "text/html": "<div>\n<style scoped>\n    .dataframe tbody tr th:only-of-type {\n        vertical-align: middle;\n    }\n\n    .dataframe tbody tr th {\n        vertical-align: top;\n    }\n\n    .dataframe thead th {\n        text-align: right;\n    }\n</style>\n<table border=\"1\" class=\"dataframe\">\n  <thead>\n    <tr style=\"text-align: right;\">\n      <th></th>\n      <th>timestamp</th>\n      <th>open</th>\n      <th>high</th>\n      <th>low</th>\n      <th>close</th>\n      <th>volume</th>\n      <th>macd</th>\n      <th>signal</th>\n      <th>hist</th>\n      <th>buy_price</th>\n      <th>sell_price</th>\n      <th>macd_signal</th>\n    </tr>\n  </thead>\n  <tbody>\n    <tr>\n      <th>999</th>\n      <td>2023-04-30 11:00:00</td>\n      <td>322.2</td>\n      <td>322.4</td>\n      <td>321.6</td>\n      <td>321.7</td>\n      <td>3014.644</td>\n      <td>-0.337669</td>\n      <td>-0.463755</td>\n      <td>0.126086</td>\n      <td>NaN</td>\n      <td>NaN</td>\n      <td>0</td>\n    </tr>\n    <tr>\n      <th>998</th>\n      <td>2023-04-30 10:00:00</td>\n      <td>322.1</td>\n      <td>322.6</td>\n      <td>321.7</td>\n      <td>322.2</td>\n      <td>6509.091</td>\n      <td>-0.343461</td>\n      <td>-0.495277</td>\n      <td>0.151816</td>\n      <td>NaN</td>\n      <td>NaN</td>\n      <td>0</td>\n    </tr>\n    <tr>\n      <th>997</th>\n      <td>2023-04-30 09:00:00</td>\n      <td>322.1</td>\n      <td>322.3</td>\n      <td>321.7</td>\n      <td>322.1</td>\n      <td>4611.320</td>\n      <td>-0.396768</td>\n      <td>-0.533230</td>\n      <td>0.136463</td>\n      <td>NaN</td>\n      <td>NaN</td>\n      <td>0</td>\n    </tr>\n    <tr>\n      <th>996</th>\n      <td>2023-04-30 08:00:00</td>\n      <td>321.5</td>\n      <td>322.4</td>\n      <td>321.5</td>\n      <td>322.0</td>\n      <td>4693.970</td>\n      <td>-0.448853</td>\n      <td>-0.567346</td>\n      <td>0.118493</td>\n      <td>NaN</td>\n      <td>NaN</td>\n      <td>0</td>\n    </tr>\n    <tr>\n      <th>995</th>\n      <td>2023-04-30 07:00:00</td>\n      <td>322.1</td>\n      <td>322.4</td>\n      <td>321.5</td>\n      <td>321.6</td>\n      <td>5910.864</td>\n      <td>-0.498623</td>\n      <td>-0.596969</td>\n      <td>0.098347</td>\n      <td>NaN</td>\n      <td>NaN</td>\n      <td>0</td>\n    </tr>\n    <tr>\n      <th>...</th>\n      <td>...</td>\n      <td>...</td>\n      <td>...</td>\n      <td>...</td>\n      <td>...</td>\n      <td>...</td>\n      <td>...</td>\n      <td>...</td>\n      <td>...</td>\n      <td>...</td>\n      <td>...</td>\n      <td>...</td>\n    </tr>\n    <tr>\n      <th>15</th>\n      <td>2023-03-20 10:00:00</td>\n      <td>337.3</td>\n      <td>338.7</td>\n      <td>336.5</td>\n      <td>337.3</td>\n      <td>19655.626</td>\n      <td>-0.798160</td>\n      <td>-1.019320</td>\n      <td>0.221160</td>\n      <td>NaN</td>\n      <td>NaN</td>\n      <td>0</td>\n    </tr>\n    <tr>\n      <th>14</th>\n      <td>2023-03-20 09:00:00</td>\n      <td>337.6</td>\n      <td>338.2</td>\n      <td>335.9</td>\n      <td>337.4</td>\n      <td>20436.360</td>\n      <td>-0.961057</td>\n      <td>-1.074610</td>\n      <td>0.113553</td>\n      <td>337.4</td>\n      <td>NaN</td>\n      <td>1</td>\n    </tr>\n    <tr>\n      <th>13</th>\n      <td>2023-03-20 08:00:00</td>\n      <td>334.7</td>\n      <td>338.2</td>\n      <td>334.2</td>\n      <td>337.6</td>\n      <td>39552.105</td>\n      <td>-1.165175</td>\n      <td>-1.102998</td>\n      <td>-0.062177</td>\n      <td>NaN</td>\n      <td>NaN</td>\n      <td>0</td>\n    </tr>\n    <tr>\n      <th>12</th>\n      <td>2023-03-20 07:00:00</td>\n      <td>333.5</td>\n      <td>335.8</td>\n      <td>333.5</td>\n      <td>334.7</td>\n      <td>42475.501</td>\n      <td>-1.429120</td>\n      <td>-1.087454</td>\n      <td>-0.341666</td>\n      <td>NaN</td>\n      <td>NaN</td>\n      <td>0</td>\n    </tr>\n    <tr>\n      <th>11</th>\n      <td>2023-03-20 06:00:00</td>\n      <td>334.3</td>\n      <td>335.5</td>\n      <td>332.8</td>\n      <td>333.5</td>\n      <td>13011.870</td>\n      <td>-1.449949</td>\n      <td>-1.002038</td>\n      <td>-0.447911</td>\n      <td>NaN</td>\n      <td>NaN</td>\n      <td>0</td>\n    </tr>\n  </tbody>\n</table>\n<p>989 rows × 12 columns</p>\n</div>"
     },
     "execution_count": 119,
     "metadata": {},
     "output_type": "execute_result"
    }
   ],
   "source": [
    "result = pd.concat([df, macd, signal], axis=1)\n",
    "result = result[['timestamp', 'open', 'high', 'low', 'close', 'volume', 'macd', 'signal', 'hist', 'buy_price', 'sell_price', 'macd_signal']]\n",
    "result = result.iloc[:, 1:]\n",
    "result.timestamp = pd.to_datetime(result.timestamp)\n",
    "result.iloc[:10 : -1]"
   ],
   "metadata": {
    "collapsed": false
   }
  },
  {
   "cell_type": "code",
   "execution_count": 120,
   "outputs": [
    {
     "data": {
      "text/plain": "              timestamp   open   high    low  close     volume      macd   \n993 2023-04-30 05:00:00  321.9  322.3  321.7  322.3   4087.009 -0.577437  \\\n957 2023-04-28 17:00:00  322.6  322.7  321.8  322.3   9173.150 -2.582274   \n931 2023-04-27 15:00:00  330.4  333.7  329.3  331.8  39271.450 -1.423026   \n904 2023-04-26 12:00:00  338.2  345.0  338.1  344.6  76243.163  2.101270   \n883 2023-04-25 15:00:00  330.3  332.7  329.8  332.4  28711.593  0.036703   \n869 2023-04-25 01:00:00  331.1  332.4  331.1  331.6  15561.030  0.310334   \n863 2023-04-24 19:00:00  331.7  332.2  331.5  332.0  10528.637  0.309169   \n856 2023-04-24 12:00:00  331.2  332.5  331.1  332.3  21116.984  0.291411   \n844 2023-04-24 00:00:00  330.6  332.7  329.4  332.4  27088.801  0.429767   \n801 2023-04-22 05:00:00  323.4  324.1  323.1  323.7  10961.245 -0.321082   \n773 2023-04-21 01:00:00  319.2  319.6  318.0  318.4   9152.925 -2.558603   \n748 2023-04-20 00:00:00  322.5  325.2  322.1  324.9  19136.496 -3.859916   \n705 2023-04-18 05:00:00  341.0  345.0  340.8  344.2  39669.262 -0.362821   \n662 2023-04-16 10:00:00  332.9  334.5  332.7  334.4  13081.127  0.691336   \n635 2023-04-15 07:00:00  329.2  330.9  329.0  330.6  17254.077  0.365233   \n570 2023-04-12 14:00:00  319.4  321.8  319.3  320.6  23057.028 -1.085270   \n525 2023-04-10 17:00:00  314.2  315.2  314.0  314.1  28490.003  0.422426   \n497 2023-04-09 13:00:00  310.9  311.0  310.2  310.7   7560.903 -0.251680   \n451 2023-04-07 15:00:00  310.7  311.3  310.6  311.0   4590.464 -0.511615   \n436 2023-04-07 00:00:00  312.3  312.8  311.9  312.7   8803.171 -0.158547   \n431 2023-04-06 19:00:00  312.4  313.0  312.3  312.7   3914.461 -0.166201   \n429 2023-04-06 17:00:00  312.8  313.0  312.5  312.8   4744.282 -0.174221   \n366 2023-04-04 02:00:00  308.4  310.0  308.2  309.3   9810.207 -1.089314   \n358 2023-04-03 18:00:00  309.5  312.1  308.6  311.7  23658.456 -0.726567   \n348 2023-04-03 08:00:00  311.0  313.8  310.9  313.4  17343.988 -0.942005   \n340 2023-04-03 00:00:00  313.8  314.1  312.9  313.5   5541.444 -0.512054   \n312 2023-04-01 20:00:00  314.5  315.5  314.3  314.4   5992.063 -0.511767   \n294 2023-04-01 02:00:00  317.6  319.0  316.6  317.2  12379.691  0.248255   \n281 2023-03-31 13:00:00  316.8  319.3  316.5  318.2  20144.788  0.311432   \n264 2023-03-30 20:00:00  316.1  317.4  315.6  317.1  12212.906  0.294395   \n252 2023-03-30 08:00:00  315.5  317.3  315.1  316.7  32384.204 -0.059911   \n201 2023-03-28 05:00:00  308.6  310.3  308.5  310.2  14516.056 -4.033382   \n149 2023-03-26 01:00:00  323.0  323.9  322.7  323.7   3165.743 -0.230957   \n123 2023-03-24 23:00:00  321.8  322.5  321.5  322.1   7843.939 -1.340251   \n82  2023-03-23 05:00:00  320.6  323.1  320.4  322.8  15601.052 -3.059316   \n57  2023-03-22 04:00:00  335.3  337.8  335.1  337.3  21228.852  0.050111   \n40  2023-03-21 11:00:00  335.0  335.0  334.1  334.9  11143.827 -0.932596   \n14  2023-03-20 09:00:00  337.6  338.2  335.9  337.4  20436.360 -0.961057   \n\n       signal      hist  buy_price  sell_price  macd_signal  \n993 -0.648403  0.070966      322.3         NaN            1  \n957 -2.626530  0.044256      322.3         NaN            1  \n931 -1.446827  0.023801      331.8         NaN            1  \n904  1.813964  0.287306      344.6         NaN            1  \n883 -0.063019  0.099722      332.4         NaN            1  \n869  0.308192  0.002142      331.6         NaN            1  \n863  0.264865  0.044304      332.0         NaN            1  \n856  0.269337  0.022075      332.3         NaN            1  \n844  0.393934  0.035833      332.4         NaN            1  \n801 -0.396489  0.075407      323.7         NaN            1  \n773 -2.614090  0.055487      318.4         NaN            1  \n748 -3.900668  0.040751      324.9         NaN            1  \n705 -0.569656  0.206836      344.2         NaN            1  \n662  0.688986  0.002350      334.4         NaN            1  \n635  0.349896  0.015337      330.6         NaN            1  \n570 -1.090970  0.005700      320.6         NaN            1  \n525  0.354907  0.067518      314.1         NaN            1  \n497 -0.267704  0.016024      310.7         NaN            1  \n451 -0.517738  0.006123      311.0         NaN            1  \n436 -0.182864  0.024317      312.7         NaN            1  \n431 -0.182709  0.016508      312.7         NaN            1  \n429 -0.186339  0.012118      312.8         NaN            1  \n366 -1.157181  0.067867      309.3         NaN            1  \n358 -0.734071  0.007505      311.7         NaN            1  \n348 -1.010852  0.068848      313.4         NaN            1  \n340 -0.512614  0.000560      313.5         NaN            1  \n312 -0.526573  0.014806      314.4         NaN            1  \n294  0.244895  0.003360      317.2         NaN            1  \n281  0.202443  0.108989      318.2         NaN            1  \n264  0.262933  0.031463      317.1         NaN            1  \n252 -0.118003  0.058092      316.7         NaN            1  \n201 -4.239364  0.205982      310.2         NaN            1  \n149 -0.309213  0.078256      323.7         NaN            1  \n123 -1.372665  0.032414      322.1         NaN            1  \n82  -3.260676  0.201360      322.8         NaN            1  \n57   0.041143  0.008968      337.3         NaN            1  \n40  -1.078088  0.145492      334.9         NaN            1  \n14  -1.074610  0.113553      337.4         NaN            1  ",
      "text/html": "<div>\n<style scoped>\n    .dataframe tbody tr th:only-of-type {\n        vertical-align: middle;\n    }\n\n    .dataframe tbody tr th {\n        vertical-align: top;\n    }\n\n    .dataframe thead th {\n        text-align: right;\n    }\n</style>\n<table border=\"1\" class=\"dataframe\">\n  <thead>\n    <tr style=\"text-align: right;\">\n      <th></th>\n      <th>timestamp</th>\n      <th>open</th>\n      <th>high</th>\n      <th>low</th>\n      <th>close</th>\n      <th>volume</th>\n      <th>macd</th>\n      <th>signal</th>\n      <th>hist</th>\n      <th>buy_price</th>\n      <th>sell_price</th>\n      <th>macd_signal</th>\n    </tr>\n  </thead>\n  <tbody>\n    <tr>\n      <th>993</th>\n      <td>2023-04-30 05:00:00</td>\n      <td>321.9</td>\n      <td>322.3</td>\n      <td>321.7</td>\n      <td>322.3</td>\n      <td>4087.009</td>\n      <td>-0.577437</td>\n      <td>-0.648403</td>\n      <td>0.070966</td>\n      <td>322.3</td>\n      <td>NaN</td>\n      <td>1</td>\n    </tr>\n    <tr>\n      <th>957</th>\n      <td>2023-04-28 17:00:00</td>\n      <td>322.6</td>\n      <td>322.7</td>\n      <td>321.8</td>\n      <td>322.3</td>\n      <td>9173.150</td>\n      <td>-2.582274</td>\n      <td>-2.626530</td>\n      <td>0.044256</td>\n      <td>322.3</td>\n      <td>NaN</td>\n      <td>1</td>\n    </tr>\n    <tr>\n      <th>931</th>\n      <td>2023-04-27 15:00:00</td>\n      <td>330.4</td>\n      <td>333.7</td>\n      <td>329.3</td>\n      <td>331.8</td>\n      <td>39271.450</td>\n      <td>-1.423026</td>\n      <td>-1.446827</td>\n      <td>0.023801</td>\n      <td>331.8</td>\n      <td>NaN</td>\n      <td>1</td>\n    </tr>\n    <tr>\n      <th>904</th>\n      <td>2023-04-26 12:00:00</td>\n      <td>338.2</td>\n      <td>345.0</td>\n      <td>338.1</td>\n      <td>344.6</td>\n      <td>76243.163</td>\n      <td>2.101270</td>\n      <td>1.813964</td>\n      <td>0.287306</td>\n      <td>344.6</td>\n      <td>NaN</td>\n      <td>1</td>\n    </tr>\n    <tr>\n      <th>883</th>\n      <td>2023-04-25 15:00:00</td>\n      <td>330.3</td>\n      <td>332.7</td>\n      <td>329.8</td>\n      <td>332.4</td>\n      <td>28711.593</td>\n      <td>0.036703</td>\n      <td>-0.063019</td>\n      <td>0.099722</td>\n      <td>332.4</td>\n      <td>NaN</td>\n      <td>1</td>\n    </tr>\n    <tr>\n      <th>869</th>\n      <td>2023-04-25 01:00:00</td>\n      <td>331.1</td>\n      <td>332.4</td>\n      <td>331.1</td>\n      <td>331.6</td>\n      <td>15561.030</td>\n      <td>0.310334</td>\n      <td>0.308192</td>\n      <td>0.002142</td>\n      <td>331.6</td>\n      <td>NaN</td>\n      <td>1</td>\n    </tr>\n    <tr>\n      <th>863</th>\n      <td>2023-04-24 19:00:00</td>\n      <td>331.7</td>\n      <td>332.2</td>\n      <td>331.5</td>\n      <td>332.0</td>\n      <td>10528.637</td>\n      <td>0.309169</td>\n      <td>0.264865</td>\n      <td>0.044304</td>\n      <td>332.0</td>\n      <td>NaN</td>\n      <td>1</td>\n    </tr>\n    <tr>\n      <th>856</th>\n      <td>2023-04-24 12:00:00</td>\n      <td>331.2</td>\n      <td>332.5</td>\n      <td>331.1</td>\n      <td>332.3</td>\n      <td>21116.984</td>\n      <td>0.291411</td>\n      <td>0.269337</td>\n      <td>0.022075</td>\n      <td>332.3</td>\n      <td>NaN</td>\n      <td>1</td>\n    </tr>\n    <tr>\n      <th>844</th>\n      <td>2023-04-24 00:00:00</td>\n      <td>330.6</td>\n      <td>332.7</td>\n      <td>329.4</td>\n      <td>332.4</td>\n      <td>27088.801</td>\n      <td>0.429767</td>\n      <td>0.393934</td>\n      <td>0.035833</td>\n      <td>332.4</td>\n      <td>NaN</td>\n      <td>1</td>\n    </tr>\n    <tr>\n      <th>801</th>\n      <td>2023-04-22 05:00:00</td>\n      <td>323.4</td>\n      <td>324.1</td>\n      <td>323.1</td>\n      <td>323.7</td>\n      <td>10961.245</td>\n      <td>-0.321082</td>\n      <td>-0.396489</td>\n      <td>0.075407</td>\n      <td>323.7</td>\n      <td>NaN</td>\n      <td>1</td>\n    </tr>\n    <tr>\n      <th>773</th>\n      <td>2023-04-21 01:00:00</td>\n      <td>319.2</td>\n      <td>319.6</td>\n      <td>318.0</td>\n      <td>318.4</td>\n      <td>9152.925</td>\n      <td>-2.558603</td>\n      <td>-2.614090</td>\n      <td>0.055487</td>\n      <td>318.4</td>\n      <td>NaN</td>\n      <td>1</td>\n    </tr>\n    <tr>\n      <th>748</th>\n      <td>2023-04-20 00:00:00</td>\n      <td>322.5</td>\n      <td>325.2</td>\n      <td>322.1</td>\n      <td>324.9</td>\n      <td>19136.496</td>\n      <td>-3.859916</td>\n      <td>-3.900668</td>\n      <td>0.040751</td>\n      <td>324.9</td>\n      <td>NaN</td>\n      <td>1</td>\n    </tr>\n    <tr>\n      <th>705</th>\n      <td>2023-04-18 05:00:00</td>\n      <td>341.0</td>\n      <td>345.0</td>\n      <td>340.8</td>\n      <td>344.2</td>\n      <td>39669.262</td>\n      <td>-0.362821</td>\n      <td>-0.569656</td>\n      <td>0.206836</td>\n      <td>344.2</td>\n      <td>NaN</td>\n      <td>1</td>\n    </tr>\n    <tr>\n      <th>662</th>\n      <td>2023-04-16 10:00:00</td>\n      <td>332.9</td>\n      <td>334.5</td>\n      <td>332.7</td>\n      <td>334.4</td>\n      <td>13081.127</td>\n      <td>0.691336</td>\n      <td>0.688986</td>\n      <td>0.002350</td>\n      <td>334.4</td>\n      <td>NaN</td>\n      <td>1</td>\n    </tr>\n    <tr>\n      <th>635</th>\n      <td>2023-04-15 07:00:00</td>\n      <td>329.2</td>\n      <td>330.9</td>\n      <td>329.0</td>\n      <td>330.6</td>\n      <td>17254.077</td>\n      <td>0.365233</td>\n      <td>0.349896</td>\n      <td>0.015337</td>\n      <td>330.6</td>\n      <td>NaN</td>\n      <td>1</td>\n    </tr>\n    <tr>\n      <th>570</th>\n      <td>2023-04-12 14:00:00</td>\n      <td>319.4</td>\n      <td>321.8</td>\n      <td>319.3</td>\n      <td>320.6</td>\n      <td>23057.028</td>\n      <td>-1.085270</td>\n      <td>-1.090970</td>\n      <td>0.005700</td>\n      <td>320.6</td>\n      <td>NaN</td>\n      <td>1</td>\n    </tr>\n    <tr>\n      <th>525</th>\n      <td>2023-04-10 17:00:00</td>\n      <td>314.2</td>\n      <td>315.2</td>\n      <td>314.0</td>\n      <td>314.1</td>\n      <td>28490.003</td>\n      <td>0.422426</td>\n      <td>0.354907</td>\n      <td>0.067518</td>\n      <td>314.1</td>\n      <td>NaN</td>\n      <td>1</td>\n    </tr>\n    <tr>\n      <th>497</th>\n      <td>2023-04-09 13:00:00</td>\n      <td>310.9</td>\n      <td>311.0</td>\n      <td>310.2</td>\n      <td>310.7</td>\n      <td>7560.903</td>\n      <td>-0.251680</td>\n      <td>-0.267704</td>\n      <td>0.016024</td>\n      <td>310.7</td>\n      <td>NaN</td>\n      <td>1</td>\n    </tr>\n    <tr>\n      <th>451</th>\n      <td>2023-04-07 15:00:00</td>\n      <td>310.7</td>\n      <td>311.3</td>\n      <td>310.6</td>\n      <td>311.0</td>\n      <td>4590.464</td>\n      <td>-0.511615</td>\n      <td>-0.517738</td>\n      <td>0.006123</td>\n      <td>311.0</td>\n      <td>NaN</td>\n      <td>1</td>\n    </tr>\n    <tr>\n      <th>436</th>\n      <td>2023-04-07 00:00:00</td>\n      <td>312.3</td>\n      <td>312.8</td>\n      <td>311.9</td>\n      <td>312.7</td>\n      <td>8803.171</td>\n      <td>-0.158547</td>\n      <td>-0.182864</td>\n      <td>0.024317</td>\n      <td>312.7</td>\n      <td>NaN</td>\n      <td>1</td>\n    </tr>\n    <tr>\n      <th>431</th>\n      <td>2023-04-06 19:00:00</td>\n      <td>312.4</td>\n      <td>313.0</td>\n      <td>312.3</td>\n      <td>312.7</td>\n      <td>3914.461</td>\n      <td>-0.166201</td>\n      <td>-0.182709</td>\n      <td>0.016508</td>\n      <td>312.7</td>\n      <td>NaN</td>\n      <td>1</td>\n    </tr>\n    <tr>\n      <th>429</th>\n      <td>2023-04-06 17:00:00</td>\n      <td>312.8</td>\n      <td>313.0</td>\n      <td>312.5</td>\n      <td>312.8</td>\n      <td>4744.282</td>\n      <td>-0.174221</td>\n      <td>-0.186339</td>\n      <td>0.012118</td>\n      <td>312.8</td>\n      <td>NaN</td>\n      <td>1</td>\n    </tr>\n    <tr>\n      <th>366</th>\n      <td>2023-04-04 02:00:00</td>\n      <td>308.4</td>\n      <td>310.0</td>\n      <td>308.2</td>\n      <td>309.3</td>\n      <td>9810.207</td>\n      <td>-1.089314</td>\n      <td>-1.157181</td>\n      <td>0.067867</td>\n      <td>309.3</td>\n      <td>NaN</td>\n      <td>1</td>\n    </tr>\n    <tr>\n      <th>358</th>\n      <td>2023-04-03 18:00:00</td>\n      <td>309.5</td>\n      <td>312.1</td>\n      <td>308.6</td>\n      <td>311.7</td>\n      <td>23658.456</td>\n      <td>-0.726567</td>\n      <td>-0.734071</td>\n      <td>0.007505</td>\n      <td>311.7</td>\n      <td>NaN</td>\n      <td>1</td>\n    </tr>\n    <tr>\n      <th>348</th>\n      <td>2023-04-03 08:00:00</td>\n      <td>311.0</td>\n      <td>313.8</td>\n      <td>310.9</td>\n      <td>313.4</td>\n      <td>17343.988</td>\n      <td>-0.942005</td>\n      <td>-1.010852</td>\n      <td>0.068848</td>\n      <td>313.4</td>\n      <td>NaN</td>\n      <td>1</td>\n    </tr>\n    <tr>\n      <th>340</th>\n      <td>2023-04-03 00:00:00</td>\n      <td>313.8</td>\n      <td>314.1</td>\n      <td>312.9</td>\n      <td>313.5</td>\n      <td>5541.444</td>\n      <td>-0.512054</td>\n      <td>-0.512614</td>\n      <td>0.000560</td>\n      <td>313.5</td>\n      <td>NaN</td>\n      <td>1</td>\n    </tr>\n    <tr>\n      <th>312</th>\n      <td>2023-04-01 20:00:00</td>\n      <td>314.5</td>\n      <td>315.5</td>\n      <td>314.3</td>\n      <td>314.4</td>\n      <td>5992.063</td>\n      <td>-0.511767</td>\n      <td>-0.526573</td>\n      <td>0.014806</td>\n      <td>314.4</td>\n      <td>NaN</td>\n      <td>1</td>\n    </tr>\n    <tr>\n      <th>294</th>\n      <td>2023-04-01 02:00:00</td>\n      <td>317.6</td>\n      <td>319.0</td>\n      <td>316.6</td>\n      <td>317.2</td>\n      <td>12379.691</td>\n      <td>0.248255</td>\n      <td>0.244895</td>\n      <td>0.003360</td>\n      <td>317.2</td>\n      <td>NaN</td>\n      <td>1</td>\n    </tr>\n    <tr>\n      <th>281</th>\n      <td>2023-03-31 13:00:00</td>\n      <td>316.8</td>\n      <td>319.3</td>\n      <td>316.5</td>\n      <td>318.2</td>\n      <td>20144.788</td>\n      <td>0.311432</td>\n      <td>0.202443</td>\n      <td>0.108989</td>\n      <td>318.2</td>\n      <td>NaN</td>\n      <td>1</td>\n    </tr>\n    <tr>\n      <th>264</th>\n      <td>2023-03-30 20:00:00</td>\n      <td>316.1</td>\n      <td>317.4</td>\n      <td>315.6</td>\n      <td>317.1</td>\n      <td>12212.906</td>\n      <td>0.294395</td>\n      <td>0.262933</td>\n      <td>0.031463</td>\n      <td>317.1</td>\n      <td>NaN</td>\n      <td>1</td>\n    </tr>\n    <tr>\n      <th>252</th>\n      <td>2023-03-30 08:00:00</td>\n      <td>315.5</td>\n      <td>317.3</td>\n      <td>315.1</td>\n      <td>316.7</td>\n      <td>32384.204</td>\n      <td>-0.059911</td>\n      <td>-0.118003</td>\n      <td>0.058092</td>\n      <td>316.7</td>\n      <td>NaN</td>\n      <td>1</td>\n    </tr>\n    <tr>\n      <th>201</th>\n      <td>2023-03-28 05:00:00</td>\n      <td>308.6</td>\n      <td>310.3</td>\n      <td>308.5</td>\n      <td>310.2</td>\n      <td>14516.056</td>\n      <td>-4.033382</td>\n      <td>-4.239364</td>\n      <td>0.205982</td>\n      <td>310.2</td>\n      <td>NaN</td>\n      <td>1</td>\n    </tr>\n    <tr>\n      <th>149</th>\n      <td>2023-03-26 01:00:00</td>\n      <td>323.0</td>\n      <td>323.9</td>\n      <td>322.7</td>\n      <td>323.7</td>\n      <td>3165.743</td>\n      <td>-0.230957</td>\n      <td>-0.309213</td>\n      <td>0.078256</td>\n      <td>323.7</td>\n      <td>NaN</td>\n      <td>1</td>\n    </tr>\n    <tr>\n      <th>123</th>\n      <td>2023-03-24 23:00:00</td>\n      <td>321.8</td>\n      <td>322.5</td>\n      <td>321.5</td>\n      <td>322.1</td>\n      <td>7843.939</td>\n      <td>-1.340251</td>\n      <td>-1.372665</td>\n      <td>0.032414</td>\n      <td>322.1</td>\n      <td>NaN</td>\n      <td>1</td>\n    </tr>\n    <tr>\n      <th>82</th>\n      <td>2023-03-23 05:00:00</td>\n      <td>320.6</td>\n      <td>323.1</td>\n      <td>320.4</td>\n      <td>322.8</td>\n      <td>15601.052</td>\n      <td>-3.059316</td>\n      <td>-3.260676</td>\n      <td>0.201360</td>\n      <td>322.8</td>\n      <td>NaN</td>\n      <td>1</td>\n    </tr>\n    <tr>\n      <th>57</th>\n      <td>2023-03-22 04:00:00</td>\n      <td>335.3</td>\n      <td>337.8</td>\n      <td>335.1</td>\n      <td>337.3</td>\n      <td>21228.852</td>\n      <td>0.050111</td>\n      <td>0.041143</td>\n      <td>0.008968</td>\n      <td>337.3</td>\n      <td>NaN</td>\n      <td>1</td>\n    </tr>\n    <tr>\n      <th>40</th>\n      <td>2023-03-21 11:00:00</td>\n      <td>335.0</td>\n      <td>335.0</td>\n      <td>334.1</td>\n      <td>334.9</td>\n      <td>11143.827</td>\n      <td>-0.932596</td>\n      <td>-1.078088</td>\n      <td>0.145492</td>\n      <td>334.9</td>\n      <td>NaN</td>\n      <td>1</td>\n    </tr>\n    <tr>\n      <th>14</th>\n      <td>2023-03-20 09:00:00</td>\n      <td>337.6</td>\n      <td>338.2</td>\n      <td>335.9</td>\n      <td>337.4</td>\n      <td>20436.360</td>\n      <td>-0.961057</td>\n      <td>-1.074610</td>\n      <td>0.113553</td>\n      <td>337.4</td>\n      <td>NaN</td>\n      <td>1</td>\n    </tr>\n  </tbody>\n</table>\n</div>"
     },
     "execution_count": 120,
     "metadata": {},
     "output_type": "execute_result"
    }
   ],
   "source": [
    "signals = result[result['macd_signal'] == 1]\n",
    "signals.iloc[: :-1]"
   ],
   "metadata": {
    "collapsed": false
   }
  },
  {
   "cell_type": "code",
   "execution_count": null,
   "outputs": [],
   "source": [],
   "metadata": {
    "collapsed": false
   }
  }
 ],
 "metadata": {
  "kernelspec": {
   "display_name": "Python 3",
   "language": "python",
   "name": "python3"
  },
  "language_info": {
   "codemirror_mode": {
    "name": "ipython",
    "version": 2
   },
   "file_extension": ".py",
   "mimetype": "text/x-python",
   "name": "python",
   "nbconvert_exporter": "python",
   "pygments_lexer": "ipython2",
   "version": "2.7.6"
  }
 },
 "nbformat": 4,
 "nbformat_minor": 0
}
