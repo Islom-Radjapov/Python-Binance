{
 "cells": [
  {
   "cell_type": "code",
   "execution_count": 1,
   "metadata": {
    "collapsed": true
   },
   "outputs": [
    {
     "name": "stderr",
     "output_type": "stream",
     "text": [
      "C:\\Users\\islom\\PycharmProjects\\Python-Binance\\venv\\lib\\site-packages\\backtesting\\_plotting.py:50: UserWarning: Jupyter Notebook detected. Setting Bokeh output to notebook. This may not work in Jupyter clients without JavaScript support (e.g. PyCharm, Spyder IDE). Reset with `backtesting.set_bokeh_output(notebook=False)`.\n",
      "  warnings.warn('Jupyter Notebook detected. '\n"
     ]
    },
    {
     "data": {
      "text/html": "<style>\n        .bk-notebook-logo {\n            display: block;\n            width: 20px;\n            height: 20px;\n            background-image: url(data:image/png;base64,iVBORw0KGgoAAAANSUhEUgAAABQAAAAUCAYAAACNiR0NAAAABHNCSVQICAgIfAhkiAAAAAlwSFlzAAALEgAACxIB0t1+/AAAABx0RVh0U29mdHdhcmUAQWRvYmUgRmlyZXdvcmtzIENTNui8sowAAAOkSURBVDiNjZRtaJVlGMd/1/08zzln5zjP1LWcU9N0NkN8m2CYjpgQYQXqSs0I84OLIC0hkEKoPtiH3gmKoiJDU7QpLgoLjLIQCpEsNJ1vqUOdO7ppbuec5+V+rj4ctwzd8IIbbi6u+8f1539dt3A78eXC7QizUF7gyV1fD1Yqg4JWz84yffhm0qkFqBogB9rM8tZdtwVsPUhWhGcFJngGeWrPzHm5oaMmkfEg1usvLFyc8jLRqDOMru7AyC8saQr7GG7f5fvDeH7Ej8CM66nIF+8yngt6HWaKh7k49Soy9nXurCi1o3qUbS3zWfrYeQDTB/Qj6kX6Ybhw4B+bOYoLKCC9H3Nu/leUTZ1JdRWkkn2ldcCamzrcf47KKXdAJllSlxAOkRgyHsGC/zRday5Qld9DyoM4/q/rUoy/CXh3jzOu3bHUVZeU+DEn8FInkPBFlu3+nW3Nw0mk6vCDiWg8CeJaxEwuHS3+z5RgY+YBR6V1Z1nxSOfoaPa4LASWxxdNp+VWTk7+4vzaou8v8PN+xo+KY2xsw6une2frhw05CTYOmQvsEhjhWjn0bmXPjpE1+kplmmkP3suftwTubK9Vq22qKmrBhpY4jvd5afdRA3wGjFAgcnTK2s4hY0/GPNIb0nErGMCRxWOOX64Z8RAC4oCXdklmEvcL8o0BfkNK4lUg9HTl+oPlQxdNo3Mg4Nv175e/1LDGzZen30MEjRUtmXSfiTVu1kK8W4txyV6BMKlbgk3lMwYCiusNy9fVfvvwMxv8Ynl6vxoByANLTWplvuj/nF9m2+PDtt1eiHPBr1oIfhCChQMBw6Aw0UulqTKZdfVvfG7VcfIqLG9bcldL/+pdWTLxLUy8Qq38heUIjh4XlzZxzQm19lLFlr8vdQ97rjZVOLf8nclzckbcD4wxXMidpX30sFd37Fv/GtwwhzhxGVAprjbg0gCAEeIgwCZyTV2Z1REEW8O4py0wsjeloKoMr6iCY6dP92H6Vw/oTyICIthibxjm/DfN9lVz8IqtqKYLUXfoKVMVQVVJOElGjrnnUt9T9wbgp8AyYKaGlqingHZU/uG2NTZSVqwHQTWkx9hxjkpWDaCg6Ckj5qebgBVbT3V3NNXMSiWSDdGV3hrtzla7J+duwPOToIg42ChPQOQjspnSlp1V+Gjdged7+8UN5CRAV7a5EdFNwCjEaBR27b3W890TE7g24NAP/mMDXRWrGoFPQI9ls/MWO2dWFAar/xcOIImbbpA3zgAAAABJRU5ErkJggg==);\n        }\n    </style>\n    <div>\n        <a href=\"https://bokeh.org\" target=\"_blank\" class=\"bk-notebook-logo\"></a>\n        <span id=\"p1001\">Loading BokehJS ...</span>\n    </div>\n"
     },
     "metadata": {},
     "output_type": "display_data"
    },
    {
     "data": {
      "application/javascript": "(function(root) {\n  function now() {\n    return new Date();\n  }\n\n  const force = true;\n\n  if (typeof root._bokeh_onload_callbacks === \"undefined\" || force === true) {\n    root._bokeh_onload_callbacks = [];\n    root._bokeh_is_loading = undefined;\n  }\n\nconst JS_MIME_TYPE = 'application/javascript';\n  const HTML_MIME_TYPE = 'text/html';\n  const EXEC_MIME_TYPE = 'application/vnd.bokehjs_exec.v0+json';\n  const CLASS_NAME = 'output_bokeh rendered_html';\n\n  /**\n   * Render data to the DOM node\n   */\n  function render(props, node) {\n    const script = document.createElement(\"script\");\n    node.appendChild(script);\n  }\n\n  /**\n   * Handle when an output is cleared or removed\n   */\n  function handleClearOutput(event, handle) {\n    const cell = handle.cell;\n\n    const id = cell.output_area._bokeh_element_id;\n    const server_id = cell.output_area._bokeh_server_id;\n    // Clean up Bokeh references\n    if (id != null && id in Bokeh.index) {\n      Bokeh.index[id].model.document.clear();\n      delete Bokeh.index[id];\n    }\n\n    if (server_id !== undefined) {\n      // Clean up Bokeh references\n      const cmd_clean = \"from bokeh.io.state import curstate; print(curstate().uuid_to_server['\" + server_id + \"'].get_sessions()[0].document.roots[0]._id)\";\n      cell.notebook.kernel.execute(cmd_clean, {\n        iopub: {\n          output: function(msg) {\n            const id = msg.content.text.trim();\n            if (id in Bokeh.index) {\n              Bokeh.index[id].model.document.clear();\n              delete Bokeh.index[id];\n            }\n          }\n        }\n      });\n      // Destroy server and session\n      const cmd_destroy = \"import bokeh.io.notebook as ion; ion.destroy_server('\" + server_id + \"')\";\n      cell.notebook.kernel.execute(cmd_destroy);\n    }\n  }\n\n  /**\n   * Handle when a new output is added\n   */\n  function handleAddOutput(event, handle) {\n    const output_area = handle.output_area;\n    const output = handle.output;\n\n    // limit handleAddOutput to display_data with EXEC_MIME_TYPE content only\n    if ((output.output_type != \"display_data\") || (!Object.prototype.hasOwnProperty.call(output.data, EXEC_MIME_TYPE))) {\n      return\n    }\n\n    const toinsert = output_area.element.find(\".\" + CLASS_NAME.split(' ')[0]);\n\n    if (output.metadata[EXEC_MIME_TYPE][\"id\"] !== undefined) {\n      toinsert[toinsert.length - 1].firstChild.textContent = output.data[JS_MIME_TYPE];\n      // store reference to embed id on output_area\n      output_area._bokeh_element_id = output.metadata[EXEC_MIME_TYPE][\"id\"];\n    }\n    if (output.metadata[EXEC_MIME_TYPE][\"server_id\"] !== undefined) {\n      const bk_div = document.createElement(\"div\");\n      bk_div.innerHTML = output.data[HTML_MIME_TYPE];\n      const script_attrs = bk_div.children[0].attributes;\n      for (let i = 0; i < script_attrs.length; i++) {\n        toinsert[toinsert.length - 1].firstChild.setAttribute(script_attrs[i].name, script_attrs[i].value);\n        toinsert[toinsert.length - 1].firstChild.textContent = bk_div.children[0].textContent\n      }\n      // store reference to server id on output_area\n      output_area._bokeh_server_id = output.metadata[EXEC_MIME_TYPE][\"server_id\"];\n    }\n  }\n\n  function register_renderer(events, OutputArea) {\n\n    function append_mime(data, metadata, element) {\n      // create a DOM node to render to\n      const toinsert = this.create_output_subarea(\n        metadata,\n        CLASS_NAME,\n        EXEC_MIME_TYPE\n      );\n      this.keyboard_manager.register_events(toinsert);\n      // Render to node\n      const props = {data: data, metadata: metadata[EXEC_MIME_TYPE]};\n      render(props, toinsert[toinsert.length - 1]);\n      element.append(toinsert);\n      return toinsert\n    }\n\n    /* Handle when an output is cleared or removed */\n    events.on('clear_output.CodeCell', handleClearOutput);\n    events.on('delete.Cell', handleClearOutput);\n\n    /* Handle when a new output is added */\n    events.on('output_added.OutputArea', handleAddOutput);\n\n    /**\n     * Register the mime type and append_mime function with output_area\n     */\n    OutputArea.prototype.register_mime_type(EXEC_MIME_TYPE, append_mime, {\n      /* Is output safe? */\n      safe: true,\n      /* Index of renderer in `output_area.display_order` */\n      index: 0\n    });\n  }\n\n  // register the mime type if in Jupyter Notebook environment and previously unregistered\n  if (root.Jupyter !== undefined) {\n    const events = require('base/js/events');\n    const OutputArea = require('notebook/js/outputarea').OutputArea;\n\n    if (OutputArea.prototype.mime_types().indexOf(EXEC_MIME_TYPE) == -1) {\n      register_renderer(events, OutputArea);\n    }\n  }\n  if (typeof (root._bokeh_timeout) === \"undefined\" || force === true) {\n    root._bokeh_timeout = Date.now() + 5000;\n    root._bokeh_failed_load = false;\n  }\n\n  const NB_LOAD_WARNING = {'data': {'text/html':\n     \"<div style='background-color: #fdd'>\\n\"+\n     \"<p>\\n\"+\n     \"BokehJS does not appear to have successfully loaded. If loading BokehJS from CDN, this \\n\"+\n     \"may be due to a slow or bad network connection. Possible fixes:\\n\"+\n     \"</p>\\n\"+\n     \"<ul>\\n\"+\n     \"<li>re-rerun `output_notebook()` to attempt to load from CDN again, or</li>\\n\"+\n     \"<li>use INLINE resources instead, as so:</li>\\n\"+\n     \"</ul>\\n\"+\n     \"<code>\\n\"+\n     \"from bokeh.resources import INLINE\\n\"+\n     \"output_notebook(resources=INLINE)\\n\"+\n     \"</code>\\n\"+\n     \"</div>\"}};\n\n  function display_loaded() {\n    const el = document.getElementById(\"p1001\");\n    if (el != null) {\n      el.textContent = \"BokehJS is loading...\";\n    }\n    if (root.Bokeh !== undefined) {\n      if (el != null) {\n        el.textContent = \"BokehJS \" + root.Bokeh.version + \" successfully loaded.\";\n      }\n    } else if (Date.now() < root._bokeh_timeout) {\n      setTimeout(display_loaded, 100)\n    }\n  }\n\n  function run_callbacks() {\n    try {\n      root._bokeh_onload_callbacks.forEach(function(callback) {\n        if (callback != null)\n          callback();\n      });\n    } finally {\n      delete root._bokeh_onload_callbacks\n    }\n    console.debug(\"Bokeh: all callbacks have finished\");\n  }\n\n  function load_libs(css_urls, js_urls, callback) {\n    if (css_urls == null) css_urls = [];\n    if (js_urls == null) js_urls = [];\n\n    root._bokeh_onload_callbacks.push(callback);\n    if (root._bokeh_is_loading > 0) {\n      console.debug(\"Bokeh: BokehJS is being loaded, scheduling callback at\", now());\n      return null;\n    }\n    if (js_urls == null || js_urls.length === 0) {\n      run_callbacks();\n      return null;\n    }\n    console.debug(\"Bokeh: BokehJS not loaded, scheduling load and callback at\", now());\n    root._bokeh_is_loading = css_urls.length + js_urls.length;\n\n    function on_load() {\n      root._bokeh_is_loading--;\n      if (root._bokeh_is_loading === 0) {\n        console.debug(\"Bokeh: all BokehJS libraries/stylesheets loaded\");\n        run_callbacks()\n      }\n    }\n\n    function on_error(url) {\n      console.error(\"failed to load \" + url);\n    }\n\n    for (let i = 0; i < css_urls.length; i++) {\n      const url = css_urls[i];\n      const element = document.createElement(\"link\");\n      element.onload = on_load;\n      element.onerror = on_error.bind(null, url);\n      element.rel = \"stylesheet\";\n      element.type = \"text/css\";\n      element.href = url;\n      console.debug(\"Bokeh: injecting link tag for BokehJS stylesheet: \", url);\n      document.body.appendChild(element);\n    }\n\n    for (let i = 0; i < js_urls.length; i++) {\n      const url = js_urls[i];\n      const element = document.createElement('script');\n      element.onload = on_load;\n      element.onerror = on_error.bind(null, url);\n      element.async = false;\n      element.src = url;\n      console.debug(\"Bokeh: injecting script tag for BokehJS library: \", url);\n      document.head.appendChild(element);\n    }\n  };\n\n  function inject_raw_css(css) {\n    const element = document.createElement(\"style\");\n    element.appendChild(document.createTextNode(css));\n    document.body.appendChild(element);\n  }\n\n  const js_urls = [\"https://cdn.bokeh.org/bokeh/release/bokeh-3.1.0.min.js\", \"https://cdn.bokeh.org/bokeh/release/bokeh-gl-3.1.0.min.js\", \"https://cdn.bokeh.org/bokeh/release/bokeh-widgets-3.1.0.min.js\", \"https://cdn.bokeh.org/bokeh/release/bokeh-tables-3.1.0.min.js\", \"https://cdn.bokeh.org/bokeh/release/bokeh-mathjax-3.1.0.min.js\"];\n  const css_urls = [];\n\n  const inline_js = [    function(Bokeh) {\n      Bokeh.set_log_level(\"info\");\n    },\nfunction(Bokeh) {\n    }\n  ];\n\n  function run_inline_js() {\n    if (root.Bokeh !== undefined || force === true) {\n          for (let i = 0; i < inline_js.length; i++) {\n      inline_js[i].call(root, root.Bokeh);\n    }\nif (force === true) {\n        display_loaded();\n      }} else if (Date.now() < root._bokeh_timeout) {\n      setTimeout(run_inline_js, 100);\n    } else if (!root._bokeh_failed_load) {\n      console.log(\"Bokeh: BokehJS failed to load within specified timeout.\");\n      root._bokeh_failed_load = true;\n    } else if (force !== true) {\n      const cell = $(document.getElementById(\"p1001\")).parents('.cell').data().cell;\n      cell.output_area.append_execute_result(NB_LOAD_WARNING)\n    }\n  }\n\n  if (root._bokeh_is_loading === 0) {\n    console.debug(\"Bokeh: BokehJS loaded, going straight to plotting\");\n    run_inline_js();\n  } else {\n    load_libs(css_urls, js_urls, function() {\n      console.debug(\"Bokeh: BokehJS plotting callback run at\", now());\n      run_inline_js();\n    });\n  }\n}(window));",
      "application/vnd.bokehjs_load.v0+json": "(function(root) {\n  function now() {\n    return new Date();\n  }\n\n  const force = true;\n\n  if (typeof root._bokeh_onload_callbacks === \"undefined\" || force === true) {\n    root._bokeh_onload_callbacks = [];\n    root._bokeh_is_loading = undefined;\n  }\n\n\n  if (typeof (root._bokeh_timeout) === \"undefined\" || force === true) {\n    root._bokeh_timeout = Date.now() + 5000;\n    root._bokeh_failed_load = false;\n  }\n\n  const NB_LOAD_WARNING = {'data': {'text/html':\n     \"<div style='background-color: #fdd'>\\n\"+\n     \"<p>\\n\"+\n     \"BokehJS does not appear to have successfully loaded. If loading BokehJS from CDN, this \\n\"+\n     \"may be due to a slow or bad network connection. Possible fixes:\\n\"+\n     \"</p>\\n\"+\n     \"<ul>\\n\"+\n     \"<li>re-rerun `output_notebook()` to attempt to load from CDN again, or</li>\\n\"+\n     \"<li>use INLINE resources instead, as so:</li>\\n\"+\n     \"</ul>\\n\"+\n     \"<code>\\n\"+\n     \"from bokeh.resources import INLINE\\n\"+\n     \"output_notebook(resources=INLINE)\\n\"+\n     \"</code>\\n\"+\n     \"</div>\"}};\n\n  function display_loaded() {\n    const el = document.getElementById(\"p1001\");\n    if (el != null) {\n      el.textContent = \"BokehJS is loading...\";\n    }\n    if (root.Bokeh !== undefined) {\n      if (el != null) {\n        el.textContent = \"BokehJS \" + root.Bokeh.version + \" successfully loaded.\";\n      }\n    } else if (Date.now() < root._bokeh_timeout) {\n      setTimeout(display_loaded, 100)\n    }\n  }\n\n  function run_callbacks() {\n    try {\n      root._bokeh_onload_callbacks.forEach(function(callback) {\n        if (callback != null)\n          callback();\n      });\n    } finally {\n      delete root._bokeh_onload_callbacks\n    }\n    console.debug(\"Bokeh: all callbacks have finished\");\n  }\n\n  function load_libs(css_urls, js_urls, callback) {\n    if (css_urls == null) css_urls = [];\n    if (js_urls == null) js_urls = [];\n\n    root._bokeh_onload_callbacks.push(callback);\n    if (root._bokeh_is_loading > 0) {\n      console.debug(\"Bokeh: BokehJS is being loaded, scheduling callback at\", now());\n      return null;\n    }\n    if (js_urls == null || js_urls.length === 0) {\n      run_callbacks();\n      return null;\n    }\n    console.debug(\"Bokeh: BokehJS not loaded, scheduling load and callback at\", now());\n    root._bokeh_is_loading = css_urls.length + js_urls.length;\n\n    function on_load() {\n      root._bokeh_is_loading--;\n      if (root._bokeh_is_loading === 0) {\n        console.debug(\"Bokeh: all BokehJS libraries/stylesheets loaded\");\n        run_callbacks()\n      }\n    }\n\n    function on_error(url) {\n      console.error(\"failed to load \" + url);\n    }\n\n    for (let i = 0; i < css_urls.length; i++) {\n      const url = css_urls[i];\n      const element = document.createElement(\"link\");\n      element.onload = on_load;\n      element.onerror = on_error.bind(null, url);\n      element.rel = \"stylesheet\";\n      element.type = \"text/css\";\n      element.href = url;\n      console.debug(\"Bokeh: injecting link tag for BokehJS stylesheet: \", url);\n      document.body.appendChild(element);\n    }\n\n    for (let i = 0; i < js_urls.length; i++) {\n      const url = js_urls[i];\n      const element = document.createElement('script');\n      element.onload = on_load;\n      element.onerror = on_error.bind(null, url);\n      element.async = false;\n      element.src = url;\n      console.debug(\"Bokeh: injecting script tag for BokehJS library: \", url);\n      document.head.appendChild(element);\n    }\n  };\n\n  function inject_raw_css(css) {\n    const element = document.createElement(\"style\");\n    element.appendChild(document.createTextNode(css));\n    document.body.appendChild(element);\n  }\n\n  const js_urls = [\"https://cdn.bokeh.org/bokeh/release/bokeh-3.1.0.min.js\", \"https://cdn.bokeh.org/bokeh/release/bokeh-gl-3.1.0.min.js\", \"https://cdn.bokeh.org/bokeh/release/bokeh-widgets-3.1.0.min.js\", \"https://cdn.bokeh.org/bokeh/release/bokeh-tables-3.1.0.min.js\", \"https://cdn.bokeh.org/bokeh/release/bokeh-mathjax-3.1.0.min.js\"];\n  const css_urls = [];\n\n  const inline_js = [    function(Bokeh) {\n      Bokeh.set_log_level(\"info\");\n    },\nfunction(Bokeh) {\n    }\n  ];\n\n  function run_inline_js() {\n    if (root.Bokeh !== undefined || force === true) {\n          for (let i = 0; i < inline_js.length; i++) {\n      inline_js[i].call(root, root.Bokeh);\n    }\nif (force === true) {\n        display_loaded();\n      }} else if (Date.now() < root._bokeh_timeout) {\n      setTimeout(run_inline_js, 100);\n    } else if (!root._bokeh_failed_load) {\n      console.log(\"Bokeh: BokehJS failed to load within specified timeout.\");\n      root._bokeh_failed_load = true;\n    } else if (force !== true) {\n      const cell = $(document.getElementById(\"p1001\")).parents('.cell').data().cell;\n      cell.output_area.append_execute_result(NB_LOAD_WARNING)\n    }\n  }\n\n  if (root._bokeh_is_loading === 0) {\n    console.debug(\"Bokeh: BokehJS loaded, going straight to plotting\");\n    run_inline_js();\n  } else {\n    load_libs(css_urls, js_urls, function() {\n      console.debug(\"Bokeh: BokehJS plotting callback run at\", now());\n      run_inline_js();\n    });\n  }\n}(window));"
     },
     "metadata": {},
     "output_type": "display_data"
    }
   ],
   "source": [
    "from datetime import datetime, timedelta\n",
    "from backtesting import Backtest, Strategy\n",
    "import pandas as pd\n",
    "import ta\n",
    "import numpy as np\n",
    "from binance.client import Client\n",
    "import ccxt\n",
    "import mplfinance as mpf\n",
    "import numpy as np\n",
    "from math import floor\n",
    "import matplotlib.pyplot as plt\n",
    "import plotly.graph_objects as go\n",
    "import config\n",
    "\n",
    "client = Client(config.api_key, config.api_secret)\n",
    "# Create Binance client instance\n",
    "# exchange = ccxt.binance({\n",
    "#     'apiKey': config.api_key,\n",
    "#     'secret': config.api_secret,\n",
    "# })"
   ]
  },
  {
   "cell_type": "code",
   "execution_count": 55,
   "outputs": [],
   "source": [
    "def get_candle_1m_after(time):\n",
    "    start = str(time + timedelta(minutes=1))\n",
    "    end = str(time + timedelta(hours=10))\n",
    "    df = pd.DataFrame(client.get_historical_klines(symbol=\"BNBUSDT\", interval='1m', start_str=start, end_str=end))\n",
    "    df = df.iloc[:, :5]\n",
    "    df.columns = ['time', 'open', 'high', 'low', 'close']\n",
    "    df = df.astype(float)\n",
    "    # df = df.set_index('time')\n",
    "    df.time = pd.to_datetime(df.time, unit='ms')\n",
    "    # df = df.astype(float)\n",
    "    return df\n",
    "\n",
    "def get_candle_1h_before(time):\n",
    "    start = str(time - timedelta(hours=5))\n",
    "    end = str(time)\n",
    "    df = pd.DataFrame(client.get_historical_klines(symbol=\"BNBUSDT\", interval='1h', start_str=start, end_str=end))\n",
    "    df = df.iloc[:, :5]\n",
    "    df.columns = ['time', 'open', 'high', 'low', 'close']\n",
    "    df = df.set_index('time')\n",
    "    df.index = pd.to_datetime(df.index, unit='ms')\n",
    "    df = df.astype(float)\n",
    "    return df"
   ],
   "metadata": {
    "collapsed": false
   }
  },
  {
   "cell_type": "code",
   "execution_count": 3,
   "outputs": [],
   "source": [
    "def get_macd(price, slow, fast, smooth):\n",
    "    exp1 = price.ewm(span = fast, adjust = False).mean()\n",
    "    exp2 = price.ewm(span = slow, adjust = False).mean()\n",
    "    macd = pd.DataFrame(exp1 - exp2).rename(columns = {'close':'macd'})\n",
    "    signal = pd.DataFrame(macd.ewm(span = smooth, adjust = False).mean()).rename(columns = {'macd':'signal'})\n",
    "    hist = pd.DataFrame(macd['macd'] - signal['signal']).rename(columns = {0:'hist'})\n",
    "    frames =  [macd, signal, hist]\n",
    "    df = pd.concat(frames, join = 'inner', axis = 1)\n",
    "    return df"
   ],
   "metadata": {
    "collapsed": false
   }
  },
  {
   "cell_type": "code",
   "execution_count": 5,
   "outputs": [],
   "source": [
    "def get_data(symbol, interval='1h'):\n",
    "    df = pd.DataFrame(client.get_historical_klines(symbol=symbol, interval=interval))\n",
    "    df = df.iloc[:, :5]\n",
    "    df.columns = ['time', 'open', 'high', 'low', 'close']\n",
    "    df = df.astype(float)\n",
    "    df.time = pd.to_datetime(df.time, unit='ms')\n",
    "    mac = get_macd(df['close'], 26, 12, 9)\n",
    "    ret = pd.concat([df, mac], join = 'inner', axis = 1)\n",
    "    return ret"
   ],
   "metadata": {
    "collapsed": false
   }
  },
  {
   "cell_type": "code",
   "execution_count": 13,
   "outputs": [],
   "source": [
    "def get_signal(data):\n",
    "    buy_price = []\n",
    "    macd_signal = []\n",
    "\n",
    "    for i in range(len(data)):\n",
    "        try:\n",
    "            if data['macd'][i-1] < data['signal'][i-1]:\n",
    "                if data['macd'][i] > data['signal'][i]:\n",
    "                    buy_price.append(data.iloc[i].close)\n",
    "                    macd_signal.append(1)\n",
    "                else:\n",
    "                    buy_price.append(np.nan)\n",
    "                    macd_signal.append(0)\n",
    "            else:\n",
    "                buy_price.append(np.nan)\n",
    "                macd_signal.append(0)\n",
    "        except:\n",
    "                buy_price.append(np.nan)\n",
    "                macd_signal.append(0)\n",
    "    return pd.DataFrame({\"buy_price\": buy_price, \"macd_signal\": macd_signal})"
   ],
   "metadata": {
    "collapsed": false
   }
  },
  {
   "cell_type": "code",
   "execution_count": 18,
   "outputs": [],
   "source": [
    "df = get_data('BNBUSDT')\n",
    "signal = get_signal(df)\n",
    "all = pd.concat([df, signal], join = 'inner', axis = 1)"
   ],
   "metadata": {
    "collapsed": false
   }
  },
  {
   "cell_type": "code",
   "execution_count": 19,
   "outputs": [
    {
     "data": {
      "text/plain": "                   time   open   high    low  close      macd    signal   \n14  2023-03-22 05:00:00  337.3  337.5  336.9  337.2 -0.467474 -0.550328  \\\n37  2023-03-23 04:00:00  320.6  322.0  320.4  320.5 -3.515405 -3.517648   \n79  2023-03-24 23:00:00  321.8  322.5  321.5  322.1 -1.346292 -1.381538   \n105 2023-03-26 01:00:00  323.0  323.9  322.7  323.7 -0.231774 -0.310415   \n157 2023-03-28 05:00:00  308.6  310.3  308.5  310.2 -4.033397 -4.239386   \n208 2023-03-30 08:00:00  315.5  317.3  315.1  316.7 -0.059911 -0.118003   \n220 2023-03-30 20:00:00  316.1  317.4  315.6  317.1  0.294395  0.262933   \n237 2023-03-31 13:00:00  316.8  319.3  316.5  318.2  0.311432  0.202443   \n250 2023-04-01 02:00:00  317.6  319.0  316.6  317.2  0.248255  0.244895   \n268 2023-04-01 20:00:00  314.5  315.5  314.3  314.4 -0.511767 -0.526573   \n296 2023-04-03 00:00:00  313.8  314.1  312.9  313.5 -0.512054 -0.512614   \n304 2023-04-03 08:00:00  311.0  313.8  310.9  313.4 -0.942005 -1.010852   \n314 2023-04-03 18:00:00  309.5  312.1  308.6  311.7 -0.726567 -0.734071   \n322 2023-04-04 02:00:00  308.4  310.0  308.2  309.3 -1.089314 -1.157181   \n385 2023-04-06 17:00:00  312.8  313.0  312.5  312.8 -0.174221 -0.186339   \n387 2023-04-06 19:00:00  312.4  313.0  312.3  312.7 -0.166201 -0.182709   \n392 2023-04-07 00:00:00  312.3  312.8  311.9  312.7 -0.158547 -0.182864   \n407 2023-04-07 15:00:00  310.7  311.3  310.6  311.0 -0.511615 -0.517738   \n453 2023-04-09 13:00:00  310.9  311.0  310.2  310.7 -0.251680 -0.267704   \n481 2023-04-10 17:00:00  314.2  315.2  314.0  314.1  0.422426  0.354907   \n526 2023-04-12 14:00:00  319.4  321.8  319.3  320.6 -1.085270 -1.090970   \n591 2023-04-15 07:00:00  329.2  330.9  329.0  330.6  0.365233  0.349896   \n618 2023-04-16 10:00:00  332.9  334.5  332.7  334.4  0.691336  0.688986   \n661 2023-04-18 05:00:00  341.0  345.0  340.8  344.2 -0.362821 -0.569656   \n704 2023-04-20 00:00:00  322.5  325.2  322.1  324.9 -3.859916 -3.900668   \n729 2023-04-21 01:00:00  319.2  319.6  318.0  318.4 -2.558603 -2.614090   \n757 2023-04-22 05:00:00  323.4  324.1  323.1  323.7 -0.321082 -0.396489   \n800 2023-04-24 00:00:00  330.6  332.7  329.4  332.4  0.429767  0.393934   \n812 2023-04-24 12:00:00  331.2  332.5  331.1  332.3  0.291411  0.269337   \n819 2023-04-24 19:00:00  331.7  332.2  331.5  332.0  0.309169  0.264865   \n825 2023-04-25 01:00:00  331.1  332.4  331.1  331.6  0.310334  0.308192   \n839 2023-04-25 15:00:00  330.3  332.7  329.8  332.4  0.036703 -0.063019   \n860 2023-04-26 12:00:00  338.2  345.0  338.1  344.6  2.101270  1.813964   \n887 2023-04-27 15:00:00  330.4  333.7  329.3  331.8 -1.423026 -1.446827   \n913 2023-04-28 17:00:00  322.6  322.7  321.8  322.3 -2.582274 -2.626530   \n949 2023-04-30 05:00:00  321.9  322.3  321.7  322.3 -0.577437 -0.648403   \n\n         hist  buy_price  macd_signal  \n14   0.082854      337.2            1  \n37   0.002243      320.5            1  \n79   0.035246      322.1            1  \n105  0.078641      323.7            1  \n157  0.205989      310.2            1  \n208  0.058092      316.7            1  \n220  0.031463      317.1            1  \n237  0.108989      318.2            1  \n250  0.003360      317.2            1  \n268  0.014806      314.4            1  \n296  0.000560      313.5            1  \n304  0.068848      313.4            1  \n314  0.007505      311.7            1  \n322  0.067867      309.3            1  \n385  0.012118      312.8            1  \n387  0.016508      312.7            1  \n392  0.024317      312.7            1  \n407  0.006123      311.0            1  \n453  0.016024      310.7            1  \n481  0.067518      314.1            1  \n526  0.005700      320.6            1  \n591  0.015337      330.6            1  \n618  0.002350      334.4            1  \n661  0.206836      344.2            1  \n704  0.040751      324.9            1  \n729  0.055487      318.4            1  \n757  0.075407      323.7            1  \n800  0.035833      332.4            1  \n812  0.022075      332.3            1  \n819  0.044304      332.0            1  \n825  0.002142      331.6            1  \n839  0.099722      332.4            1  \n860  0.287306      344.6            1  \n887  0.023801      331.8            1  \n913  0.044256      322.3            1  \n949  0.070966      322.3            1  ",
      "text/html": "<div>\n<style scoped>\n    .dataframe tbody tr th:only-of-type {\n        vertical-align: middle;\n    }\n\n    .dataframe tbody tr th {\n        vertical-align: top;\n    }\n\n    .dataframe thead th {\n        text-align: right;\n    }\n</style>\n<table border=\"1\" class=\"dataframe\">\n  <thead>\n    <tr style=\"text-align: right;\">\n      <th></th>\n      <th>time</th>\n      <th>open</th>\n      <th>high</th>\n      <th>low</th>\n      <th>close</th>\n      <th>macd</th>\n      <th>signal</th>\n      <th>hist</th>\n      <th>buy_price</th>\n      <th>macd_signal</th>\n    </tr>\n  </thead>\n  <tbody>\n    <tr>\n      <th>14</th>\n      <td>2023-03-22 05:00:00</td>\n      <td>337.3</td>\n      <td>337.5</td>\n      <td>336.9</td>\n      <td>337.2</td>\n      <td>-0.467474</td>\n      <td>-0.550328</td>\n      <td>0.082854</td>\n      <td>337.2</td>\n      <td>1</td>\n    </tr>\n    <tr>\n      <th>37</th>\n      <td>2023-03-23 04:00:00</td>\n      <td>320.6</td>\n      <td>322.0</td>\n      <td>320.4</td>\n      <td>320.5</td>\n      <td>-3.515405</td>\n      <td>-3.517648</td>\n      <td>0.002243</td>\n      <td>320.5</td>\n      <td>1</td>\n    </tr>\n    <tr>\n      <th>79</th>\n      <td>2023-03-24 23:00:00</td>\n      <td>321.8</td>\n      <td>322.5</td>\n      <td>321.5</td>\n      <td>322.1</td>\n      <td>-1.346292</td>\n      <td>-1.381538</td>\n      <td>0.035246</td>\n      <td>322.1</td>\n      <td>1</td>\n    </tr>\n    <tr>\n      <th>105</th>\n      <td>2023-03-26 01:00:00</td>\n      <td>323.0</td>\n      <td>323.9</td>\n      <td>322.7</td>\n      <td>323.7</td>\n      <td>-0.231774</td>\n      <td>-0.310415</td>\n      <td>0.078641</td>\n      <td>323.7</td>\n      <td>1</td>\n    </tr>\n    <tr>\n      <th>157</th>\n      <td>2023-03-28 05:00:00</td>\n      <td>308.6</td>\n      <td>310.3</td>\n      <td>308.5</td>\n      <td>310.2</td>\n      <td>-4.033397</td>\n      <td>-4.239386</td>\n      <td>0.205989</td>\n      <td>310.2</td>\n      <td>1</td>\n    </tr>\n    <tr>\n      <th>208</th>\n      <td>2023-03-30 08:00:00</td>\n      <td>315.5</td>\n      <td>317.3</td>\n      <td>315.1</td>\n      <td>316.7</td>\n      <td>-0.059911</td>\n      <td>-0.118003</td>\n      <td>0.058092</td>\n      <td>316.7</td>\n      <td>1</td>\n    </tr>\n    <tr>\n      <th>220</th>\n      <td>2023-03-30 20:00:00</td>\n      <td>316.1</td>\n      <td>317.4</td>\n      <td>315.6</td>\n      <td>317.1</td>\n      <td>0.294395</td>\n      <td>0.262933</td>\n      <td>0.031463</td>\n      <td>317.1</td>\n      <td>1</td>\n    </tr>\n    <tr>\n      <th>237</th>\n      <td>2023-03-31 13:00:00</td>\n      <td>316.8</td>\n      <td>319.3</td>\n      <td>316.5</td>\n      <td>318.2</td>\n      <td>0.311432</td>\n      <td>0.202443</td>\n      <td>0.108989</td>\n      <td>318.2</td>\n      <td>1</td>\n    </tr>\n    <tr>\n      <th>250</th>\n      <td>2023-04-01 02:00:00</td>\n      <td>317.6</td>\n      <td>319.0</td>\n      <td>316.6</td>\n      <td>317.2</td>\n      <td>0.248255</td>\n      <td>0.244895</td>\n      <td>0.003360</td>\n      <td>317.2</td>\n      <td>1</td>\n    </tr>\n    <tr>\n      <th>268</th>\n      <td>2023-04-01 20:00:00</td>\n      <td>314.5</td>\n      <td>315.5</td>\n      <td>314.3</td>\n      <td>314.4</td>\n      <td>-0.511767</td>\n      <td>-0.526573</td>\n      <td>0.014806</td>\n      <td>314.4</td>\n      <td>1</td>\n    </tr>\n    <tr>\n      <th>296</th>\n      <td>2023-04-03 00:00:00</td>\n      <td>313.8</td>\n      <td>314.1</td>\n      <td>312.9</td>\n      <td>313.5</td>\n      <td>-0.512054</td>\n      <td>-0.512614</td>\n      <td>0.000560</td>\n      <td>313.5</td>\n      <td>1</td>\n    </tr>\n    <tr>\n      <th>304</th>\n      <td>2023-04-03 08:00:00</td>\n      <td>311.0</td>\n      <td>313.8</td>\n      <td>310.9</td>\n      <td>313.4</td>\n      <td>-0.942005</td>\n      <td>-1.010852</td>\n      <td>0.068848</td>\n      <td>313.4</td>\n      <td>1</td>\n    </tr>\n    <tr>\n      <th>314</th>\n      <td>2023-04-03 18:00:00</td>\n      <td>309.5</td>\n      <td>312.1</td>\n      <td>308.6</td>\n      <td>311.7</td>\n      <td>-0.726567</td>\n      <td>-0.734071</td>\n      <td>0.007505</td>\n      <td>311.7</td>\n      <td>1</td>\n    </tr>\n    <tr>\n      <th>322</th>\n      <td>2023-04-04 02:00:00</td>\n      <td>308.4</td>\n      <td>310.0</td>\n      <td>308.2</td>\n      <td>309.3</td>\n      <td>-1.089314</td>\n      <td>-1.157181</td>\n      <td>0.067867</td>\n      <td>309.3</td>\n      <td>1</td>\n    </tr>\n    <tr>\n      <th>385</th>\n      <td>2023-04-06 17:00:00</td>\n      <td>312.8</td>\n      <td>313.0</td>\n      <td>312.5</td>\n      <td>312.8</td>\n      <td>-0.174221</td>\n      <td>-0.186339</td>\n      <td>0.012118</td>\n      <td>312.8</td>\n      <td>1</td>\n    </tr>\n    <tr>\n      <th>387</th>\n      <td>2023-04-06 19:00:00</td>\n      <td>312.4</td>\n      <td>313.0</td>\n      <td>312.3</td>\n      <td>312.7</td>\n      <td>-0.166201</td>\n      <td>-0.182709</td>\n      <td>0.016508</td>\n      <td>312.7</td>\n      <td>1</td>\n    </tr>\n    <tr>\n      <th>392</th>\n      <td>2023-04-07 00:00:00</td>\n      <td>312.3</td>\n      <td>312.8</td>\n      <td>311.9</td>\n      <td>312.7</td>\n      <td>-0.158547</td>\n      <td>-0.182864</td>\n      <td>0.024317</td>\n      <td>312.7</td>\n      <td>1</td>\n    </tr>\n    <tr>\n      <th>407</th>\n      <td>2023-04-07 15:00:00</td>\n      <td>310.7</td>\n      <td>311.3</td>\n      <td>310.6</td>\n      <td>311.0</td>\n      <td>-0.511615</td>\n      <td>-0.517738</td>\n      <td>0.006123</td>\n      <td>311.0</td>\n      <td>1</td>\n    </tr>\n    <tr>\n      <th>453</th>\n      <td>2023-04-09 13:00:00</td>\n      <td>310.9</td>\n      <td>311.0</td>\n      <td>310.2</td>\n      <td>310.7</td>\n      <td>-0.251680</td>\n      <td>-0.267704</td>\n      <td>0.016024</td>\n      <td>310.7</td>\n      <td>1</td>\n    </tr>\n    <tr>\n      <th>481</th>\n      <td>2023-04-10 17:00:00</td>\n      <td>314.2</td>\n      <td>315.2</td>\n      <td>314.0</td>\n      <td>314.1</td>\n      <td>0.422426</td>\n      <td>0.354907</td>\n      <td>0.067518</td>\n      <td>314.1</td>\n      <td>1</td>\n    </tr>\n    <tr>\n      <th>526</th>\n      <td>2023-04-12 14:00:00</td>\n      <td>319.4</td>\n      <td>321.8</td>\n      <td>319.3</td>\n      <td>320.6</td>\n      <td>-1.085270</td>\n      <td>-1.090970</td>\n      <td>0.005700</td>\n      <td>320.6</td>\n      <td>1</td>\n    </tr>\n    <tr>\n      <th>591</th>\n      <td>2023-04-15 07:00:00</td>\n      <td>329.2</td>\n      <td>330.9</td>\n      <td>329.0</td>\n      <td>330.6</td>\n      <td>0.365233</td>\n      <td>0.349896</td>\n      <td>0.015337</td>\n      <td>330.6</td>\n      <td>1</td>\n    </tr>\n    <tr>\n      <th>618</th>\n      <td>2023-04-16 10:00:00</td>\n      <td>332.9</td>\n      <td>334.5</td>\n      <td>332.7</td>\n      <td>334.4</td>\n      <td>0.691336</td>\n      <td>0.688986</td>\n      <td>0.002350</td>\n      <td>334.4</td>\n      <td>1</td>\n    </tr>\n    <tr>\n      <th>661</th>\n      <td>2023-04-18 05:00:00</td>\n      <td>341.0</td>\n      <td>345.0</td>\n      <td>340.8</td>\n      <td>344.2</td>\n      <td>-0.362821</td>\n      <td>-0.569656</td>\n      <td>0.206836</td>\n      <td>344.2</td>\n      <td>1</td>\n    </tr>\n    <tr>\n      <th>704</th>\n      <td>2023-04-20 00:00:00</td>\n      <td>322.5</td>\n      <td>325.2</td>\n      <td>322.1</td>\n      <td>324.9</td>\n      <td>-3.859916</td>\n      <td>-3.900668</td>\n      <td>0.040751</td>\n      <td>324.9</td>\n      <td>1</td>\n    </tr>\n    <tr>\n      <th>729</th>\n      <td>2023-04-21 01:00:00</td>\n      <td>319.2</td>\n      <td>319.6</td>\n      <td>318.0</td>\n      <td>318.4</td>\n      <td>-2.558603</td>\n      <td>-2.614090</td>\n      <td>0.055487</td>\n      <td>318.4</td>\n      <td>1</td>\n    </tr>\n    <tr>\n      <th>757</th>\n      <td>2023-04-22 05:00:00</td>\n      <td>323.4</td>\n      <td>324.1</td>\n      <td>323.1</td>\n      <td>323.7</td>\n      <td>-0.321082</td>\n      <td>-0.396489</td>\n      <td>0.075407</td>\n      <td>323.7</td>\n      <td>1</td>\n    </tr>\n    <tr>\n      <th>800</th>\n      <td>2023-04-24 00:00:00</td>\n      <td>330.6</td>\n      <td>332.7</td>\n      <td>329.4</td>\n      <td>332.4</td>\n      <td>0.429767</td>\n      <td>0.393934</td>\n      <td>0.035833</td>\n      <td>332.4</td>\n      <td>1</td>\n    </tr>\n    <tr>\n      <th>812</th>\n      <td>2023-04-24 12:00:00</td>\n      <td>331.2</td>\n      <td>332.5</td>\n      <td>331.1</td>\n      <td>332.3</td>\n      <td>0.291411</td>\n      <td>0.269337</td>\n      <td>0.022075</td>\n      <td>332.3</td>\n      <td>1</td>\n    </tr>\n    <tr>\n      <th>819</th>\n      <td>2023-04-24 19:00:00</td>\n      <td>331.7</td>\n      <td>332.2</td>\n      <td>331.5</td>\n      <td>332.0</td>\n      <td>0.309169</td>\n      <td>0.264865</td>\n      <td>0.044304</td>\n      <td>332.0</td>\n      <td>1</td>\n    </tr>\n    <tr>\n      <th>825</th>\n      <td>2023-04-25 01:00:00</td>\n      <td>331.1</td>\n      <td>332.4</td>\n      <td>331.1</td>\n      <td>331.6</td>\n      <td>0.310334</td>\n      <td>0.308192</td>\n      <td>0.002142</td>\n      <td>331.6</td>\n      <td>1</td>\n    </tr>\n    <tr>\n      <th>839</th>\n      <td>2023-04-25 15:00:00</td>\n      <td>330.3</td>\n      <td>332.7</td>\n      <td>329.8</td>\n      <td>332.4</td>\n      <td>0.036703</td>\n      <td>-0.063019</td>\n      <td>0.099722</td>\n      <td>332.4</td>\n      <td>1</td>\n    </tr>\n    <tr>\n      <th>860</th>\n      <td>2023-04-26 12:00:00</td>\n      <td>338.2</td>\n      <td>345.0</td>\n      <td>338.1</td>\n      <td>344.6</td>\n      <td>2.101270</td>\n      <td>1.813964</td>\n      <td>0.287306</td>\n      <td>344.6</td>\n      <td>1</td>\n    </tr>\n    <tr>\n      <th>887</th>\n      <td>2023-04-27 15:00:00</td>\n      <td>330.4</td>\n      <td>333.7</td>\n      <td>329.3</td>\n      <td>331.8</td>\n      <td>-1.423026</td>\n      <td>-1.446827</td>\n      <td>0.023801</td>\n      <td>331.8</td>\n      <td>1</td>\n    </tr>\n    <tr>\n      <th>913</th>\n      <td>2023-04-28 17:00:00</td>\n      <td>322.6</td>\n      <td>322.7</td>\n      <td>321.8</td>\n      <td>322.3</td>\n      <td>-2.582274</td>\n      <td>-2.626530</td>\n      <td>0.044256</td>\n      <td>322.3</td>\n      <td>1</td>\n    </tr>\n    <tr>\n      <th>949</th>\n      <td>2023-04-30 05:00:00</td>\n      <td>321.9</td>\n      <td>322.3</td>\n      <td>321.7</td>\n      <td>322.3</td>\n      <td>-0.577437</td>\n      <td>-0.648403</td>\n      <td>0.070966</td>\n      <td>322.3</td>\n      <td>1</td>\n    </tr>\n  </tbody>\n</table>\n</div>"
     },
     "execution_count": 19,
     "metadata": {},
     "output_type": "execute_result"
    }
   ],
   "source": [
    "all[all['macd_signal'] ==1]"
   ],
   "metadata": {
    "collapsed": false
   }
  },
  {
   "cell_type": "code",
   "execution_count": 29,
   "outputs": [
    {
     "data": {
      "text/plain": "312.62"
     },
     "execution_count": 29,
     "metadata": {},
     "output_type": "execute_result"
    }
   ],
   "source": [],
   "metadata": {
    "collapsed": false
   }
  },
  {
   "cell_type": "code",
   "execution_count": 67,
   "outputs": [],
   "source": [
    "profit = pd.DataFrame(columns=['buy_price', 'profit', 'price'], index=range(36))\n",
    "n = 0\n",
    "for x in range(len(all)):\n",
    "    if all.iloc[x].macd_signal == 1:\n",
    "        row1 = all.iloc[x]\n",
    "        profit.iloc[n]['buy_price'] = row1.close\n",
    "        after = get_candle_1m_after(df.iloc[x].time)\n",
    "        for y in range(len(after)):\n",
    "            row2 = after.iloc[y]\n",
    "            if row1.close <= row2.close - (row2.close * 0.01):\n",
    "                profit.iloc[n]['profit'] = 0\n",
    "                profit.iloc[n]['price'] = row2.close\n",
    "                n += 1\n",
    "                break\n",
    "            elif row1.close >= row2.close + (row2.close * 0.015):\n",
    "                profit.iloc[n]['profit'] = 1\n",
    "                profit.iloc[n]['price'] = row2.close\n",
    "                n += 1\n",
    "                break\n",
    "        else:\n",
    "            profit.iloc[n]['profit'] = 2\n",
    "            n += 1"
   ],
   "metadata": {
    "collapsed": false
   }
  },
  {
   "cell_type": "code",
   "execution_count": 68,
   "outputs": [
    {
     "data": {
      "text/plain": "   buy_price profit  price\n0      337.2      1  331.9\n1      320.5      0  324.1\n2      322.1      2    NaN\n3      323.7      2    NaN\n4      310.2      2    NaN\n5      316.7      2    NaN\n6      317.1      2    NaN\n7      318.2      2    NaN\n8      317.2      2    NaN\n9      314.4      2    NaN\n10     313.5      2    NaN\n11     313.4      1  308.7\n12     311.7      1  306.3\n13     309.3      2    NaN\n14     312.8      2    NaN\n15     312.7      2    NaN\n16     312.7      2    NaN\n17     311.0      2    NaN\n18     310.7      2    NaN\n19     314.1      0  317.3\n20     320.6      2    NaN\n21     330.6      0  334.1\n22     334.4      0  337.8\n23     344.2      2    NaN\n24     324.9      2    NaN\n25     318.4      0  329.1\n26     323.7      0  327.0\n27     332.4      2    NaN\n28     332.3      2    NaN\n29     332.0      2    NaN\n30     331.6      2    NaN\n31     332.4      0  335.9\n32     344.6      1  338.5\n33     331.8      0  335.3\n34     322.3      2    NaN\n35     322.3      2    NaN",
      "text/html": "<div>\n<style scoped>\n    .dataframe tbody tr th:only-of-type {\n        vertical-align: middle;\n    }\n\n    .dataframe tbody tr th {\n        vertical-align: top;\n    }\n\n    .dataframe thead th {\n        text-align: right;\n    }\n</style>\n<table border=\"1\" class=\"dataframe\">\n  <thead>\n    <tr style=\"text-align: right;\">\n      <th></th>\n      <th>buy_price</th>\n      <th>profit</th>\n      <th>price</th>\n    </tr>\n  </thead>\n  <tbody>\n    <tr>\n      <th>0</th>\n      <td>337.2</td>\n      <td>1</td>\n      <td>331.9</td>\n    </tr>\n    <tr>\n      <th>1</th>\n      <td>320.5</td>\n      <td>0</td>\n      <td>324.1</td>\n    </tr>\n    <tr>\n      <th>2</th>\n      <td>322.1</td>\n      <td>2</td>\n      <td>NaN</td>\n    </tr>\n    <tr>\n      <th>3</th>\n      <td>323.7</td>\n      <td>2</td>\n      <td>NaN</td>\n    </tr>\n    <tr>\n      <th>4</th>\n      <td>310.2</td>\n      <td>2</td>\n      <td>NaN</td>\n    </tr>\n    <tr>\n      <th>5</th>\n      <td>316.7</td>\n      <td>2</td>\n      <td>NaN</td>\n    </tr>\n    <tr>\n      <th>6</th>\n      <td>317.1</td>\n      <td>2</td>\n      <td>NaN</td>\n    </tr>\n    <tr>\n      <th>7</th>\n      <td>318.2</td>\n      <td>2</td>\n      <td>NaN</td>\n    </tr>\n    <tr>\n      <th>8</th>\n      <td>317.2</td>\n      <td>2</td>\n      <td>NaN</td>\n    </tr>\n    <tr>\n      <th>9</th>\n      <td>314.4</td>\n      <td>2</td>\n      <td>NaN</td>\n    </tr>\n    <tr>\n      <th>10</th>\n      <td>313.5</td>\n      <td>2</td>\n      <td>NaN</td>\n    </tr>\n    <tr>\n      <th>11</th>\n      <td>313.4</td>\n      <td>1</td>\n      <td>308.7</td>\n    </tr>\n    <tr>\n      <th>12</th>\n      <td>311.7</td>\n      <td>1</td>\n      <td>306.3</td>\n    </tr>\n    <tr>\n      <th>13</th>\n      <td>309.3</td>\n      <td>2</td>\n      <td>NaN</td>\n    </tr>\n    <tr>\n      <th>14</th>\n      <td>312.8</td>\n      <td>2</td>\n      <td>NaN</td>\n    </tr>\n    <tr>\n      <th>15</th>\n      <td>312.7</td>\n      <td>2</td>\n      <td>NaN</td>\n    </tr>\n    <tr>\n      <th>16</th>\n      <td>312.7</td>\n      <td>2</td>\n      <td>NaN</td>\n    </tr>\n    <tr>\n      <th>17</th>\n      <td>311.0</td>\n      <td>2</td>\n      <td>NaN</td>\n    </tr>\n    <tr>\n      <th>18</th>\n      <td>310.7</td>\n      <td>2</td>\n      <td>NaN</td>\n    </tr>\n    <tr>\n      <th>19</th>\n      <td>314.1</td>\n      <td>0</td>\n      <td>317.3</td>\n    </tr>\n    <tr>\n      <th>20</th>\n      <td>320.6</td>\n      <td>2</td>\n      <td>NaN</td>\n    </tr>\n    <tr>\n      <th>21</th>\n      <td>330.6</td>\n      <td>0</td>\n      <td>334.1</td>\n    </tr>\n    <tr>\n      <th>22</th>\n      <td>334.4</td>\n      <td>0</td>\n      <td>337.8</td>\n    </tr>\n    <tr>\n      <th>23</th>\n      <td>344.2</td>\n      <td>2</td>\n      <td>NaN</td>\n    </tr>\n    <tr>\n      <th>24</th>\n      <td>324.9</td>\n      <td>2</td>\n      <td>NaN</td>\n    </tr>\n    <tr>\n      <th>25</th>\n      <td>318.4</td>\n      <td>0</td>\n      <td>329.1</td>\n    </tr>\n    <tr>\n      <th>26</th>\n      <td>323.7</td>\n      <td>0</td>\n      <td>327.0</td>\n    </tr>\n    <tr>\n      <th>27</th>\n      <td>332.4</td>\n      <td>2</td>\n      <td>NaN</td>\n    </tr>\n    <tr>\n      <th>28</th>\n      <td>332.3</td>\n      <td>2</td>\n      <td>NaN</td>\n    </tr>\n    <tr>\n      <th>29</th>\n      <td>332.0</td>\n      <td>2</td>\n      <td>NaN</td>\n    </tr>\n    <tr>\n      <th>30</th>\n      <td>331.6</td>\n      <td>2</td>\n      <td>NaN</td>\n    </tr>\n    <tr>\n      <th>31</th>\n      <td>332.4</td>\n      <td>0</td>\n      <td>335.9</td>\n    </tr>\n    <tr>\n      <th>32</th>\n      <td>344.6</td>\n      <td>1</td>\n      <td>338.5</td>\n    </tr>\n    <tr>\n      <th>33</th>\n      <td>331.8</td>\n      <td>0</td>\n      <td>335.3</td>\n    </tr>\n    <tr>\n      <th>34</th>\n      <td>322.3</td>\n      <td>2</td>\n      <td>NaN</td>\n    </tr>\n    <tr>\n      <th>35</th>\n      <td>322.3</td>\n      <td>2</td>\n      <td>NaN</td>\n    </tr>\n  </tbody>\n</table>\n</div>"
     },
     "execution_count": 68,
     "metadata": {},
     "output_type": "execute_result"
    }
   ],
   "source": [
    "profit"
   ],
   "metadata": {
    "collapsed": false
   }
  },
  {
   "cell_type": "code",
   "execution_count": 58,
   "outputs": [
    {
     "data": {
      "text/plain": "36"
     },
     "execution_count": 58,
     "metadata": {},
     "output_type": "execute_result"
    }
   ],
   "source": [
    "len(profit)"
   ],
   "metadata": {
    "collapsed": false
   }
  },
  {
   "cell_type": "code",
   "execution_count": 54,
   "outputs": [],
   "source": [
    "for x in range(10):\n",
    "    if x == 5:\n",
    "       print(x)\n",
    "    elif x == 3:\n",
    "        break\n",
    "else:\n",
    "    print(x)"
   ],
   "metadata": {
    "collapsed": false
   }
  },
  {
   "cell_type": "code",
   "execution_count": 119,
   "outputs": [
    {
     "data": {
      "text/plain": "              timestamp   open   high    low  close     volume      macd   \n999 2023-04-30 11:00:00  322.2  322.4  321.6  321.7   3014.644 -0.337669  \\\n998 2023-04-30 10:00:00  322.1  322.6  321.7  322.2   6509.091 -0.343461   \n997 2023-04-30 09:00:00  322.1  322.3  321.7  322.1   4611.320 -0.396768   \n996 2023-04-30 08:00:00  321.5  322.4  321.5  322.0   4693.970 -0.448853   \n995 2023-04-30 07:00:00  322.1  322.4  321.5  321.6   5910.864 -0.498623   \n..                  ...    ...    ...    ...    ...        ...       ...   \n15  2023-03-20 10:00:00  337.3  338.7  336.5  337.3  19655.626 -0.798160   \n14  2023-03-20 09:00:00  337.6  338.2  335.9  337.4  20436.360 -0.961057   \n13  2023-03-20 08:00:00  334.7  338.2  334.2  337.6  39552.105 -1.165175   \n12  2023-03-20 07:00:00  333.5  335.8  333.5  334.7  42475.501 -1.429120   \n11  2023-03-20 06:00:00  334.3  335.5  332.8  333.5  13011.870 -1.449949   \n\n       signal      hist  buy_price  sell_price  macd_signal  \n999 -0.463755  0.126086        NaN         NaN            0  \n998 -0.495277  0.151816        NaN         NaN            0  \n997 -0.533230  0.136463        NaN         NaN            0  \n996 -0.567346  0.118493        NaN         NaN            0  \n995 -0.596969  0.098347        NaN         NaN            0  \n..        ...       ...        ...         ...          ...  \n15  -1.019320  0.221160        NaN         NaN            0  \n14  -1.074610  0.113553      337.4         NaN            1  \n13  -1.102998 -0.062177        NaN         NaN            0  \n12  -1.087454 -0.341666        NaN         NaN            0  \n11  -1.002038 -0.447911        NaN         NaN            0  \n\n[989 rows x 12 columns]",
      "text/html": "<div>\n<style scoped>\n    .dataframe tbody tr th:only-of-type {\n        vertical-align: middle;\n    }\n\n    .dataframe tbody tr th {\n        vertical-align: top;\n    }\n\n    .dataframe thead th {\n        text-align: right;\n    }\n</style>\n<table border=\"1\" class=\"dataframe\">\n  <thead>\n    <tr style=\"text-align: right;\">\n      <th></th>\n      <th>timestamp</th>\n      <th>open</th>\n      <th>high</th>\n      <th>low</th>\n      <th>close</th>\n      <th>volume</th>\n      <th>macd</th>\n      <th>signal</th>\n      <th>hist</th>\n      <th>buy_price</th>\n      <th>sell_price</th>\n      <th>macd_signal</th>\n    </tr>\n  </thead>\n  <tbody>\n    <tr>\n      <th>999</th>\n      <td>2023-04-30 11:00:00</td>\n      <td>322.2</td>\n      <td>322.4</td>\n      <td>321.6</td>\n      <td>321.7</td>\n      <td>3014.644</td>\n      <td>-0.337669</td>\n      <td>-0.463755</td>\n      <td>0.126086</td>\n      <td>NaN</td>\n      <td>NaN</td>\n      <td>0</td>\n    </tr>\n    <tr>\n      <th>998</th>\n      <td>2023-04-30 10:00:00</td>\n      <td>322.1</td>\n      <td>322.6</td>\n      <td>321.7</td>\n      <td>322.2</td>\n      <td>6509.091</td>\n      <td>-0.343461</td>\n      <td>-0.495277</td>\n      <td>0.151816</td>\n      <td>NaN</td>\n      <td>NaN</td>\n      <td>0</td>\n    </tr>\n    <tr>\n      <th>997</th>\n      <td>2023-04-30 09:00:00</td>\n      <td>322.1</td>\n      <td>322.3</td>\n      <td>321.7</td>\n      <td>322.1</td>\n      <td>4611.320</td>\n      <td>-0.396768</td>\n      <td>-0.533230</td>\n      <td>0.136463</td>\n      <td>NaN</td>\n      <td>NaN</td>\n      <td>0</td>\n    </tr>\n    <tr>\n      <th>996</th>\n      <td>2023-04-30 08:00:00</td>\n      <td>321.5</td>\n      <td>322.4</td>\n      <td>321.5</td>\n      <td>322.0</td>\n      <td>4693.970</td>\n      <td>-0.448853</td>\n      <td>-0.567346</td>\n      <td>0.118493</td>\n      <td>NaN</td>\n      <td>NaN</td>\n      <td>0</td>\n    </tr>\n    <tr>\n      <th>995</th>\n      <td>2023-04-30 07:00:00</td>\n      <td>322.1</td>\n      <td>322.4</td>\n      <td>321.5</td>\n      <td>321.6</td>\n      <td>5910.864</td>\n      <td>-0.498623</td>\n      <td>-0.596969</td>\n      <td>0.098347</td>\n      <td>NaN</td>\n      <td>NaN</td>\n      <td>0</td>\n    </tr>\n    <tr>\n      <th>...</th>\n      <td>...</td>\n      <td>...</td>\n      <td>...</td>\n      <td>...</td>\n      <td>...</td>\n      <td>...</td>\n      <td>...</td>\n      <td>...</td>\n      <td>...</td>\n      <td>...</td>\n      <td>...</td>\n      <td>...</td>\n    </tr>\n    <tr>\n      <th>15</th>\n      <td>2023-03-20 10:00:00</td>\n      <td>337.3</td>\n      <td>338.7</td>\n      <td>336.5</td>\n      <td>337.3</td>\n      <td>19655.626</td>\n      <td>-0.798160</td>\n      <td>-1.019320</td>\n      <td>0.221160</td>\n      <td>NaN</td>\n      <td>NaN</td>\n      <td>0</td>\n    </tr>\n    <tr>\n      <th>14</th>\n      <td>2023-03-20 09:00:00</td>\n      <td>337.6</td>\n      <td>338.2</td>\n      <td>335.9</td>\n      <td>337.4</td>\n      <td>20436.360</td>\n      <td>-0.961057</td>\n      <td>-1.074610</td>\n      <td>0.113553</td>\n      <td>337.4</td>\n      <td>NaN</td>\n      <td>1</td>\n    </tr>\n    <tr>\n      <th>13</th>\n      <td>2023-03-20 08:00:00</td>\n      <td>334.7</td>\n      <td>338.2</td>\n      <td>334.2</td>\n      <td>337.6</td>\n      <td>39552.105</td>\n      <td>-1.165175</td>\n      <td>-1.102998</td>\n      <td>-0.062177</td>\n      <td>NaN</td>\n      <td>NaN</td>\n      <td>0</td>\n    </tr>\n    <tr>\n      <th>12</th>\n      <td>2023-03-20 07:00:00</td>\n      <td>333.5</td>\n      <td>335.8</td>\n      <td>333.5</td>\n      <td>334.7</td>\n      <td>42475.501</td>\n      <td>-1.429120</td>\n      <td>-1.087454</td>\n      <td>-0.341666</td>\n      <td>NaN</td>\n      <td>NaN</td>\n      <td>0</td>\n    </tr>\n    <tr>\n      <th>11</th>\n      <td>2023-03-20 06:00:00</td>\n      <td>334.3</td>\n      <td>335.5</td>\n      <td>332.8</td>\n      <td>333.5</td>\n      <td>13011.870</td>\n      <td>-1.449949</td>\n      <td>-1.002038</td>\n      <td>-0.447911</td>\n      <td>NaN</td>\n      <td>NaN</td>\n      <td>0</td>\n    </tr>\n  </tbody>\n</table>\n<p>989 rows × 12 columns</p>\n</div>"
     },
     "execution_count": 119,
     "metadata": {},
     "output_type": "execute_result"
    }
   ],
   "source": [
    "result = pd.concat([df, macd, signal], axis=1)\n",
    "result = result[['timestamp', 'open', 'high', 'low', 'close', 'volume', 'macd', 'signal', 'hist', 'buy_price', 'sell_price', 'macd_signal']]\n",
    "result = result.iloc[:, 1:]\n",
    "result.timestamp = pd.to_datetime(result.timestamp)\n",
    "result.iloc[:10 : -1]"
   ],
   "metadata": {
    "collapsed": false
   }
  },
  {
   "cell_type": "code",
   "execution_count": 120,
   "outputs": [
    {
     "data": {
      "text/plain": "              timestamp   open   high    low  close     volume      macd   \n993 2023-04-30 05:00:00  321.9  322.3  321.7  322.3   4087.009 -0.577437  \\\n957 2023-04-28 17:00:00  322.6  322.7  321.8  322.3   9173.150 -2.582274   \n931 2023-04-27 15:00:00  330.4  333.7  329.3  331.8  39271.450 -1.423026   \n904 2023-04-26 12:00:00  338.2  345.0  338.1  344.6  76243.163  2.101270   \n883 2023-04-25 15:00:00  330.3  332.7  329.8  332.4  28711.593  0.036703   \n869 2023-04-25 01:00:00  331.1  332.4  331.1  331.6  15561.030  0.310334   \n863 2023-04-24 19:00:00  331.7  332.2  331.5  332.0  10528.637  0.309169   \n856 2023-04-24 12:00:00  331.2  332.5  331.1  332.3  21116.984  0.291411   \n844 2023-04-24 00:00:00  330.6  332.7  329.4  332.4  27088.801  0.429767   \n801 2023-04-22 05:00:00  323.4  324.1  323.1  323.7  10961.245 -0.321082   \n773 2023-04-21 01:00:00  319.2  319.6  318.0  318.4   9152.925 -2.558603   \n748 2023-04-20 00:00:00  322.5  325.2  322.1  324.9  19136.496 -3.859916   \n705 2023-04-18 05:00:00  341.0  345.0  340.8  344.2  39669.262 -0.362821   \n662 2023-04-16 10:00:00  332.9  334.5  332.7  334.4  13081.127  0.691336   \n635 2023-04-15 07:00:00  329.2  330.9  329.0  330.6  17254.077  0.365233   \n570 2023-04-12 14:00:00  319.4  321.8  319.3  320.6  23057.028 -1.085270   \n525 2023-04-10 17:00:00  314.2  315.2  314.0  314.1  28490.003  0.422426   \n497 2023-04-09 13:00:00  310.9  311.0  310.2  310.7   7560.903 -0.251680   \n451 2023-04-07 15:00:00  310.7  311.3  310.6  311.0   4590.464 -0.511615   \n436 2023-04-07 00:00:00  312.3  312.8  311.9  312.7   8803.171 -0.158547   \n431 2023-04-06 19:00:00  312.4  313.0  312.3  312.7   3914.461 -0.166201   \n429 2023-04-06 17:00:00  312.8  313.0  312.5  312.8   4744.282 -0.174221   \n366 2023-04-04 02:00:00  308.4  310.0  308.2  309.3   9810.207 -1.089314   \n358 2023-04-03 18:00:00  309.5  312.1  308.6  311.7  23658.456 -0.726567   \n348 2023-04-03 08:00:00  311.0  313.8  310.9  313.4  17343.988 -0.942005   \n340 2023-04-03 00:00:00  313.8  314.1  312.9  313.5   5541.444 -0.512054   \n312 2023-04-01 20:00:00  314.5  315.5  314.3  314.4   5992.063 -0.511767   \n294 2023-04-01 02:00:00  317.6  319.0  316.6  317.2  12379.691  0.248255   \n281 2023-03-31 13:00:00  316.8  319.3  316.5  318.2  20144.788  0.311432   \n264 2023-03-30 20:00:00  316.1  317.4  315.6  317.1  12212.906  0.294395   \n252 2023-03-30 08:00:00  315.5  317.3  315.1  316.7  32384.204 -0.059911   \n201 2023-03-28 05:00:00  308.6  310.3  308.5  310.2  14516.056 -4.033382   \n149 2023-03-26 01:00:00  323.0  323.9  322.7  323.7   3165.743 -0.230957   \n123 2023-03-24 23:00:00  321.8  322.5  321.5  322.1   7843.939 -1.340251   \n82  2023-03-23 05:00:00  320.6  323.1  320.4  322.8  15601.052 -3.059316   \n57  2023-03-22 04:00:00  335.3  337.8  335.1  337.3  21228.852  0.050111   \n40  2023-03-21 11:00:00  335.0  335.0  334.1  334.9  11143.827 -0.932596   \n14  2023-03-20 09:00:00  337.6  338.2  335.9  337.4  20436.360 -0.961057   \n\n       signal      hist  buy_price  sell_price  macd_signal  \n993 -0.648403  0.070966      322.3         NaN            1  \n957 -2.626530  0.044256      322.3         NaN            1  \n931 -1.446827  0.023801      331.8         NaN            1  \n904  1.813964  0.287306      344.6         NaN            1  \n883 -0.063019  0.099722      332.4         NaN            1  \n869  0.308192  0.002142      331.6         NaN            1  \n863  0.264865  0.044304      332.0         NaN            1  \n856  0.269337  0.022075      332.3         NaN            1  \n844  0.393934  0.035833      332.4         NaN            1  \n801 -0.396489  0.075407      323.7         NaN            1  \n773 -2.614090  0.055487      318.4         NaN            1  \n748 -3.900668  0.040751      324.9         NaN            1  \n705 -0.569656  0.206836      344.2         NaN            1  \n662  0.688986  0.002350      334.4         NaN            1  \n635  0.349896  0.015337      330.6         NaN            1  \n570 -1.090970  0.005700      320.6         NaN            1  \n525  0.354907  0.067518      314.1         NaN            1  \n497 -0.267704  0.016024      310.7         NaN            1  \n451 -0.517738  0.006123      311.0         NaN            1  \n436 -0.182864  0.024317      312.7         NaN            1  \n431 -0.182709  0.016508      312.7         NaN            1  \n429 -0.186339  0.012118      312.8         NaN            1  \n366 -1.157181  0.067867      309.3         NaN            1  \n358 -0.734071  0.007505      311.7         NaN            1  \n348 -1.010852  0.068848      313.4         NaN            1  \n340 -0.512614  0.000560      313.5         NaN            1  \n312 -0.526573  0.014806      314.4         NaN            1  \n294  0.244895  0.003360      317.2         NaN            1  \n281  0.202443  0.108989      318.2         NaN            1  \n264  0.262933  0.031463      317.1         NaN            1  \n252 -0.118003  0.058092      316.7         NaN            1  \n201 -4.239364  0.205982      310.2         NaN            1  \n149 -0.309213  0.078256      323.7         NaN            1  \n123 -1.372665  0.032414      322.1         NaN            1  \n82  -3.260676  0.201360      322.8         NaN            1  \n57   0.041143  0.008968      337.3         NaN            1  \n40  -1.078088  0.145492      334.9         NaN            1  \n14  -1.074610  0.113553      337.4         NaN            1  ",
      "text/html": "<div>\n<style scoped>\n    .dataframe tbody tr th:only-of-type {\n        vertical-align: middle;\n    }\n\n    .dataframe tbody tr th {\n        vertical-align: top;\n    }\n\n    .dataframe thead th {\n        text-align: right;\n    }\n</style>\n<table border=\"1\" class=\"dataframe\">\n  <thead>\n    <tr style=\"text-align: right;\">\n      <th></th>\n      <th>timestamp</th>\n      <th>open</th>\n      <th>high</th>\n      <th>low</th>\n      <th>close</th>\n      <th>volume</th>\n      <th>macd</th>\n      <th>signal</th>\n      <th>hist</th>\n      <th>buy_price</th>\n      <th>sell_price</th>\n      <th>macd_signal</th>\n    </tr>\n  </thead>\n  <tbody>\n    <tr>\n      <th>993</th>\n      <td>2023-04-30 05:00:00</td>\n      <td>321.9</td>\n      <td>322.3</td>\n      <td>321.7</td>\n      <td>322.3</td>\n      <td>4087.009</td>\n      <td>-0.577437</td>\n      <td>-0.648403</td>\n      <td>0.070966</td>\n      <td>322.3</td>\n      <td>NaN</td>\n      <td>1</td>\n    </tr>\n    <tr>\n      <th>957</th>\n      <td>2023-04-28 17:00:00</td>\n      <td>322.6</td>\n      <td>322.7</td>\n      <td>321.8</td>\n      <td>322.3</td>\n      <td>9173.150</td>\n      <td>-2.582274</td>\n      <td>-2.626530</td>\n      <td>0.044256</td>\n      <td>322.3</td>\n      <td>NaN</td>\n      <td>1</td>\n    </tr>\n    <tr>\n      <th>931</th>\n      <td>2023-04-27 15:00:00</td>\n      <td>330.4</td>\n      <td>333.7</td>\n      <td>329.3</td>\n      <td>331.8</td>\n      <td>39271.450</td>\n      <td>-1.423026</td>\n      <td>-1.446827</td>\n      <td>0.023801</td>\n      <td>331.8</td>\n      <td>NaN</td>\n      <td>1</td>\n    </tr>\n    <tr>\n      <th>904</th>\n      <td>2023-04-26 12:00:00</td>\n      <td>338.2</td>\n      <td>345.0</td>\n      <td>338.1</td>\n      <td>344.6</td>\n      <td>76243.163</td>\n      <td>2.101270</td>\n      <td>1.813964</td>\n      <td>0.287306</td>\n      <td>344.6</td>\n      <td>NaN</td>\n      <td>1</td>\n    </tr>\n    <tr>\n      <th>883</th>\n      <td>2023-04-25 15:00:00</td>\n      <td>330.3</td>\n      <td>332.7</td>\n      <td>329.8</td>\n      <td>332.4</td>\n      <td>28711.593</td>\n      <td>0.036703</td>\n      <td>-0.063019</td>\n      <td>0.099722</td>\n      <td>332.4</td>\n      <td>NaN</td>\n      <td>1</td>\n    </tr>\n    <tr>\n      <th>869</th>\n      <td>2023-04-25 01:00:00</td>\n      <td>331.1</td>\n      <td>332.4</td>\n      <td>331.1</td>\n      <td>331.6</td>\n      <td>15561.030</td>\n      <td>0.310334</td>\n      <td>0.308192</td>\n      <td>0.002142</td>\n      <td>331.6</td>\n      <td>NaN</td>\n      <td>1</td>\n    </tr>\n    <tr>\n      <th>863</th>\n      <td>2023-04-24 19:00:00</td>\n      <td>331.7</td>\n      <td>332.2</td>\n      <td>331.5</td>\n      <td>332.0</td>\n      <td>10528.637</td>\n      <td>0.309169</td>\n      <td>0.264865</td>\n      <td>0.044304</td>\n      <td>332.0</td>\n      <td>NaN</td>\n      <td>1</td>\n    </tr>\n    <tr>\n      <th>856</th>\n      <td>2023-04-24 12:00:00</td>\n      <td>331.2</td>\n      <td>332.5</td>\n      <td>331.1</td>\n      <td>332.3</td>\n      <td>21116.984</td>\n      <td>0.291411</td>\n      <td>0.269337</td>\n      <td>0.022075</td>\n      <td>332.3</td>\n      <td>NaN</td>\n      <td>1</td>\n    </tr>\n    <tr>\n      <th>844</th>\n      <td>2023-04-24 00:00:00</td>\n      <td>330.6</td>\n      <td>332.7</td>\n      <td>329.4</td>\n      <td>332.4</td>\n      <td>27088.801</td>\n      <td>0.429767</td>\n      <td>0.393934</td>\n      <td>0.035833</td>\n      <td>332.4</td>\n      <td>NaN</td>\n      <td>1</td>\n    </tr>\n    <tr>\n      <th>801</th>\n      <td>2023-04-22 05:00:00</td>\n      <td>323.4</td>\n      <td>324.1</td>\n      <td>323.1</td>\n      <td>323.7</td>\n      <td>10961.245</td>\n      <td>-0.321082</td>\n      <td>-0.396489</td>\n      <td>0.075407</td>\n      <td>323.7</td>\n      <td>NaN</td>\n      <td>1</td>\n    </tr>\n    <tr>\n      <th>773</th>\n      <td>2023-04-21 01:00:00</td>\n      <td>319.2</td>\n      <td>319.6</td>\n      <td>318.0</td>\n      <td>318.4</td>\n      <td>9152.925</td>\n      <td>-2.558603</td>\n      <td>-2.614090</td>\n      <td>0.055487</td>\n      <td>318.4</td>\n      <td>NaN</td>\n      <td>1</td>\n    </tr>\n    <tr>\n      <th>748</th>\n      <td>2023-04-20 00:00:00</td>\n      <td>322.5</td>\n      <td>325.2</td>\n      <td>322.1</td>\n      <td>324.9</td>\n      <td>19136.496</td>\n      <td>-3.859916</td>\n      <td>-3.900668</td>\n      <td>0.040751</td>\n      <td>324.9</td>\n      <td>NaN</td>\n      <td>1</td>\n    </tr>\n    <tr>\n      <th>705</th>\n      <td>2023-04-18 05:00:00</td>\n      <td>341.0</td>\n      <td>345.0</td>\n      <td>340.8</td>\n      <td>344.2</td>\n      <td>39669.262</td>\n      <td>-0.362821</td>\n      <td>-0.569656</td>\n      <td>0.206836</td>\n      <td>344.2</td>\n      <td>NaN</td>\n      <td>1</td>\n    </tr>\n    <tr>\n      <th>662</th>\n      <td>2023-04-16 10:00:00</td>\n      <td>332.9</td>\n      <td>334.5</td>\n      <td>332.7</td>\n      <td>334.4</td>\n      <td>13081.127</td>\n      <td>0.691336</td>\n      <td>0.688986</td>\n      <td>0.002350</td>\n      <td>334.4</td>\n      <td>NaN</td>\n      <td>1</td>\n    </tr>\n    <tr>\n      <th>635</th>\n      <td>2023-04-15 07:00:00</td>\n      <td>329.2</td>\n      <td>330.9</td>\n      <td>329.0</td>\n      <td>330.6</td>\n      <td>17254.077</td>\n      <td>0.365233</td>\n      <td>0.349896</td>\n      <td>0.015337</td>\n      <td>330.6</td>\n      <td>NaN</td>\n      <td>1</td>\n    </tr>\n    <tr>\n      <th>570</th>\n      <td>2023-04-12 14:00:00</td>\n      <td>319.4</td>\n      <td>321.8</td>\n      <td>319.3</td>\n      <td>320.6</td>\n      <td>23057.028</td>\n      <td>-1.085270</td>\n      <td>-1.090970</td>\n      <td>0.005700</td>\n      <td>320.6</td>\n      <td>NaN</td>\n      <td>1</td>\n    </tr>\n    <tr>\n      <th>525</th>\n      <td>2023-04-10 17:00:00</td>\n      <td>314.2</td>\n      <td>315.2</td>\n      <td>314.0</td>\n      <td>314.1</td>\n      <td>28490.003</td>\n      <td>0.422426</td>\n      <td>0.354907</td>\n      <td>0.067518</td>\n      <td>314.1</td>\n      <td>NaN</td>\n      <td>1</td>\n    </tr>\n    <tr>\n      <th>497</th>\n      <td>2023-04-09 13:00:00</td>\n      <td>310.9</td>\n      <td>311.0</td>\n      <td>310.2</td>\n      <td>310.7</td>\n      <td>7560.903</td>\n      <td>-0.251680</td>\n      <td>-0.267704</td>\n      <td>0.016024</td>\n      <td>310.7</td>\n      <td>NaN</td>\n      <td>1</td>\n    </tr>\n    <tr>\n      <th>451</th>\n      <td>2023-04-07 15:00:00</td>\n      <td>310.7</td>\n      <td>311.3</td>\n      <td>310.6</td>\n      <td>311.0</td>\n      <td>4590.464</td>\n      <td>-0.511615</td>\n      <td>-0.517738</td>\n      <td>0.006123</td>\n      <td>311.0</td>\n      <td>NaN</td>\n      <td>1</td>\n    </tr>\n    <tr>\n      <th>436</th>\n      <td>2023-04-07 00:00:00</td>\n      <td>312.3</td>\n      <td>312.8</td>\n      <td>311.9</td>\n      <td>312.7</td>\n      <td>8803.171</td>\n      <td>-0.158547</td>\n      <td>-0.182864</td>\n      <td>0.024317</td>\n      <td>312.7</td>\n      <td>NaN</td>\n      <td>1</td>\n    </tr>\n    <tr>\n      <th>431</th>\n      <td>2023-04-06 19:00:00</td>\n      <td>312.4</td>\n      <td>313.0</td>\n      <td>312.3</td>\n      <td>312.7</td>\n      <td>3914.461</td>\n      <td>-0.166201</td>\n      <td>-0.182709</td>\n      <td>0.016508</td>\n      <td>312.7</td>\n      <td>NaN</td>\n      <td>1</td>\n    </tr>\n    <tr>\n      <th>429</th>\n      <td>2023-04-06 17:00:00</td>\n      <td>312.8</td>\n      <td>313.0</td>\n      <td>312.5</td>\n      <td>312.8</td>\n      <td>4744.282</td>\n      <td>-0.174221</td>\n      <td>-0.186339</td>\n      <td>0.012118</td>\n      <td>312.8</td>\n      <td>NaN</td>\n      <td>1</td>\n    </tr>\n    <tr>\n      <th>366</th>\n      <td>2023-04-04 02:00:00</td>\n      <td>308.4</td>\n      <td>310.0</td>\n      <td>308.2</td>\n      <td>309.3</td>\n      <td>9810.207</td>\n      <td>-1.089314</td>\n      <td>-1.157181</td>\n      <td>0.067867</td>\n      <td>309.3</td>\n      <td>NaN</td>\n      <td>1</td>\n    </tr>\n    <tr>\n      <th>358</th>\n      <td>2023-04-03 18:00:00</td>\n      <td>309.5</td>\n      <td>312.1</td>\n      <td>308.6</td>\n      <td>311.7</td>\n      <td>23658.456</td>\n      <td>-0.726567</td>\n      <td>-0.734071</td>\n      <td>0.007505</td>\n      <td>311.7</td>\n      <td>NaN</td>\n      <td>1</td>\n    </tr>\n    <tr>\n      <th>348</th>\n      <td>2023-04-03 08:00:00</td>\n      <td>311.0</td>\n      <td>313.8</td>\n      <td>310.9</td>\n      <td>313.4</td>\n      <td>17343.988</td>\n      <td>-0.942005</td>\n      <td>-1.010852</td>\n      <td>0.068848</td>\n      <td>313.4</td>\n      <td>NaN</td>\n      <td>1</td>\n    </tr>\n    <tr>\n      <th>340</th>\n      <td>2023-04-03 00:00:00</td>\n      <td>313.8</td>\n      <td>314.1</td>\n      <td>312.9</td>\n      <td>313.5</td>\n      <td>5541.444</td>\n      <td>-0.512054</td>\n      <td>-0.512614</td>\n      <td>0.000560</td>\n      <td>313.5</td>\n      <td>NaN</td>\n      <td>1</td>\n    </tr>\n    <tr>\n      <th>312</th>\n      <td>2023-04-01 20:00:00</td>\n      <td>314.5</td>\n      <td>315.5</td>\n      <td>314.3</td>\n      <td>314.4</td>\n      <td>5992.063</td>\n      <td>-0.511767</td>\n      <td>-0.526573</td>\n      <td>0.014806</td>\n      <td>314.4</td>\n      <td>NaN</td>\n      <td>1</td>\n    </tr>\n    <tr>\n      <th>294</th>\n      <td>2023-04-01 02:00:00</td>\n      <td>317.6</td>\n      <td>319.0</td>\n      <td>316.6</td>\n      <td>317.2</td>\n      <td>12379.691</td>\n      <td>0.248255</td>\n      <td>0.244895</td>\n      <td>0.003360</td>\n      <td>317.2</td>\n      <td>NaN</td>\n      <td>1</td>\n    </tr>\n    <tr>\n      <th>281</th>\n      <td>2023-03-31 13:00:00</td>\n      <td>316.8</td>\n      <td>319.3</td>\n      <td>316.5</td>\n      <td>318.2</td>\n      <td>20144.788</td>\n      <td>0.311432</td>\n      <td>0.202443</td>\n      <td>0.108989</td>\n      <td>318.2</td>\n      <td>NaN</td>\n      <td>1</td>\n    </tr>\n    <tr>\n      <th>264</th>\n      <td>2023-03-30 20:00:00</td>\n      <td>316.1</td>\n      <td>317.4</td>\n      <td>315.6</td>\n      <td>317.1</td>\n      <td>12212.906</td>\n      <td>0.294395</td>\n      <td>0.262933</td>\n      <td>0.031463</td>\n      <td>317.1</td>\n      <td>NaN</td>\n      <td>1</td>\n    </tr>\n    <tr>\n      <th>252</th>\n      <td>2023-03-30 08:00:00</td>\n      <td>315.5</td>\n      <td>317.3</td>\n      <td>315.1</td>\n      <td>316.7</td>\n      <td>32384.204</td>\n      <td>-0.059911</td>\n      <td>-0.118003</td>\n      <td>0.058092</td>\n      <td>316.7</td>\n      <td>NaN</td>\n      <td>1</td>\n    </tr>\n    <tr>\n      <th>201</th>\n      <td>2023-03-28 05:00:00</td>\n      <td>308.6</td>\n      <td>310.3</td>\n      <td>308.5</td>\n      <td>310.2</td>\n      <td>14516.056</td>\n      <td>-4.033382</td>\n      <td>-4.239364</td>\n      <td>0.205982</td>\n      <td>310.2</td>\n      <td>NaN</td>\n      <td>1</td>\n    </tr>\n    <tr>\n      <th>149</th>\n      <td>2023-03-26 01:00:00</td>\n      <td>323.0</td>\n      <td>323.9</td>\n      <td>322.7</td>\n      <td>323.7</td>\n      <td>3165.743</td>\n      <td>-0.230957</td>\n      <td>-0.309213</td>\n      <td>0.078256</td>\n      <td>323.7</td>\n      <td>NaN</td>\n      <td>1</td>\n    </tr>\n    <tr>\n      <th>123</th>\n      <td>2023-03-24 23:00:00</td>\n      <td>321.8</td>\n      <td>322.5</td>\n      <td>321.5</td>\n      <td>322.1</td>\n      <td>7843.939</td>\n      <td>-1.340251</td>\n      <td>-1.372665</td>\n      <td>0.032414</td>\n      <td>322.1</td>\n      <td>NaN</td>\n      <td>1</td>\n    </tr>\n    <tr>\n      <th>82</th>\n      <td>2023-03-23 05:00:00</td>\n      <td>320.6</td>\n      <td>323.1</td>\n      <td>320.4</td>\n      <td>322.8</td>\n      <td>15601.052</td>\n      <td>-3.059316</td>\n      <td>-3.260676</td>\n      <td>0.201360</td>\n      <td>322.8</td>\n      <td>NaN</td>\n      <td>1</td>\n    </tr>\n    <tr>\n      <th>57</th>\n      <td>2023-03-22 04:00:00</td>\n      <td>335.3</td>\n      <td>337.8</td>\n      <td>335.1</td>\n      <td>337.3</td>\n      <td>21228.852</td>\n      <td>0.050111</td>\n      <td>0.041143</td>\n      <td>0.008968</td>\n      <td>337.3</td>\n      <td>NaN</td>\n      <td>1</td>\n    </tr>\n    <tr>\n      <th>40</th>\n      <td>2023-03-21 11:00:00</td>\n      <td>335.0</td>\n      <td>335.0</td>\n      <td>334.1</td>\n      <td>334.9</td>\n      <td>11143.827</td>\n      <td>-0.932596</td>\n      <td>-1.078088</td>\n      <td>0.145492</td>\n      <td>334.9</td>\n      <td>NaN</td>\n      <td>1</td>\n    </tr>\n    <tr>\n      <th>14</th>\n      <td>2023-03-20 09:00:00</td>\n      <td>337.6</td>\n      <td>338.2</td>\n      <td>335.9</td>\n      <td>337.4</td>\n      <td>20436.360</td>\n      <td>-0.961057</td>\n      <td>-1.074610</td>\n      <td>0.113553</td>\n      <td>337.4</td>\n      <td>NaN</td>\n      <td>1</td>\n    </tr>\n  </tbody>\n</table>\n</div>"
     },
     "execution_count": 120,
     "metadata": {},
     "output_type": "execute_result"
    }
   ],
   "source": [
    "signals = result[result['macd_signal'] == 1]\n",
    "signals.iloc[: :-1]"
   ],
   "metadata": {
    "collapsed": false
   }
  },
  {
   "cell_type": "code",
   "execution_count": null,
   "outputs": [],
   "source": [],
   "metadata": {
    "collapsed": false
   }
  }
 ],
 "metadata": {
  "kernelspec": {
   "display_name": "Python 3",
   "language": "python",
   "name": "python3"
  },
  "language_info": {
   "codemirror_mode": {
    "name": "ipython",
    "version": 2
   },
   "file_extension": ".py",
   "mimetype": "text/x-python",
   "name": "python",
   "nbconvert_exporter": "python",
   "pygments_lexer": "ipython2",
   "version": "2.7.6"
  }
 },
 "nbformat": 4,
 "nbformat_minor": 0
}
