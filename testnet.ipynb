{
 "cells": [
  {
   "cell_type": "code",
   "execution_count": 109,
   "metadata": {
    "collapsed": true
   },
   "outputs": [],
   "source": [
    "import pandas as pd\n",
    "from binance.client import Client\n",
    "import ccxt\n",
    "import config\n",
    "\n",
    "client = Client(config.api_key, config.api_secret)\n",
    "# Create Binance client instance\n",
    "exchange = ccxt.binance({\n",
    "    'apiKey': config.api_key,\n",
    "    'secret': config.api_secret,\n",
    "})"
   ]
  },
  {
   "cell_type": "code",
   "execution_count": 4,
   "outputs": [
    {
     "name": "stdout",
     "output_type": "stream",
     "text": [
      "{'asset': 'BTC', 'free': '0.00000480', 'locked': '0.00000000'}\n",
      "{'asset': 'LTC', 'free': '0.00062300', 'locked': '0.00000000'}\n",
      "{'asset': 'ETH', 'free': '0.00004240', 'locked': '0.00000000'}\n",
      "{'asset': 'USDT', 'free': '100.38534268', 'locked': '0.00000000'}\n",
      "{'asset': 'TRX', 'free': '0.08650000', 'locked': '0.00000000'}\n",
      "{'asset': 'ETC', 'free': '175.02076195', 'locked': '0.00000000'}\n",
      "{'asset': 'XRP', 'free': '0.74500000', 'locked': '0.00000000'}\n",
      "{'asset': 'XLM', 'free': '0.68900000', 'locked': '0.00000000'}\n",
      "{'asset': 'ZIL', 'free': '0.03670000', 'locked': '0.00000000'}\n",
      "{'asset': 'SOL', 'free': '0.00264000', 'locked': '0.00000000'}\n",
      "{'asset': 'LINA', 'free': '0.45077000', 'locked': '0.00000000'}\n",
      "{'asset': 'SHIB', 'free': '0.24', 'locked': '0.00'}\n",
      "{'asset': 'LUNC', 'free': '0.00848000', 'locked': '0.00000000'}\n",
      "{'asset': 'ETHW', 'free': '0.00006970', 'locked': '0.00000000'}\n"
     ]
    }
   ],
   "source": [
    "# barcha balanslarni korsatadi\n",
    "info = client.get_account()\n",
    "balans = info['balances']\n",
    "for x in balans:\n",
    "    if float(x['free']) > 0:\n",
    "        print(x)"
   ],
   "metadata": {
    "collapsed": false
   }
  },
  {
   "cell_type": "code",
   "execution_count": 123,
   "outputs": [
    {
     "data": {
      "text/plain": "{'asset': 'USDT', 'free': '100.38534268', 'locked': '0.00000000'}"
     },
     "execution_count": 123,
     "metadata": {},
     "output_type": "execute_result"
    }
   ],
   "source": [
    "balance = client.get_asset_balance(asset='USDT')\n",
    "balance # USDT ga tegishgli balansni korsatadi"
   ],
   "metadata": {
    "collapsed": false
   }
  },
  {
   "cell_type": "code",
   "execution_count": 103,
   "outputs": [
    {
     "name": "stdout",
     "output_type": "stream",
     "text": [
      "Bitcoin price:  29016.69000000\n"
     ]
    }
   ],
   "source": [
    "# Get latest bitcoin price\n",
    "btc_price = client.get_symbol_ticker(symbol=\"BTCUSDT\")\n",
    "\n",
    "# Print the price\n",
    "print(\"Bitcoin price: \", btc_price['price'])\n"
   ],
   "metadata": {
    "collapsed": false
   }
  },
  {
   "cell_type": "code",
   "execution_count": 117,
   "outputs": [
    {
     "data": {
      "text/plain": "                         open      high       low     close      volume\ntimestamp                                                              \n2023-04-06 17:00:00  28065.15  28084.18  28014.99  28041.40  1229.48840\n2023-04-06 18:00:00  28041.41  28094.41  27954.06  27963.35  1205.25894\n2023-04-06 19:00:00  27963.34  28056.67  27950.90  28017.77  1091.38706\n2023-04-06 20:00:00  28017.77  28121.87  27966.00  27975.85  1404.21402\n2023-04-06 21:00:00  27975.85  28052.80  27957.04  27989.16   875.15697\n...                       ...       ...       ...       ...         ...\n2023-04-27 08:00:00  28893.84  29094.75  28780.45  28955.43  3333.79914\n2023-04-27 09:00:00  28955.43  29035.08  28870.00  28931.71  2139.13542\n2023-04-27 10:00:00  28931.71  29035.91  28890.00  28990.77  2115.38753\n2023-04-27 11:00:00  28990.76  29139.85  28882.00  28934.21  3495.85771\n2023-04-27 12:00:00  28934.21  28980.00  28930.70  28977.28   315.60133\n\n[500 rows x 5 columns]",
      "text/html": "<div>\n<style scoped>\n    .dataframe tbody tr th:only-of-type {\n        vertical-align: middle;\n    }\n\n    .dataframe tbody tr th {\n        vertical-align: top;\n    }\n\n    .dataframe thead th {\n        text-align: right;\n    }\n</style>\n<table border=\"1\" class=\"dataframe\">\n  <thead>\n    <tr style=\"text-align: right;\">\n      <th></th>\n      <th>open</th>\n      <th>high</th>\n      <th>low</th>\n      <th>close</th>\n      <th>volume</th>\n    </tr>\n    <tr>\n      <th>timestamp</th>\n      <th></th>\n      <th></th>\n      <th></th>\n      <th></th>\n      <th></th>\n    </tr>\n  </thead>\n  <tbody>\n    <tr>\n      <th>2023-04-06 17:00:00</th>\n      <td>28065.15</td>\n      <td>28084.18</td>\n      <td>28014.99</td>\n      <td>28041.40</td>\n      <td>1229.48840</td>\n    </tr>\n    <tr>\n      <th>2023-04-06 18:00:00</th>\n      <td>28041.41</td>\n      <td>28094.41</td>\n      <td>27954.06</td>\n      <td>27963.35</td>\n      <td>1205.25894</td>\n    </tr>\n    <tr>\n      <th>2023-04-06 19:00:00</th>\n      <td>27963.34</td>\n      <td>28056.67</td>\n      <td>27950.90</td>\n      <td>28017.77</td>\n      <td>1091.38706</td>\n    </tr>\n    <tr>\n      <th>2023-04-06 20:00:00</th>\n      <td>28017.77</td>\n      <td>28121.87</td>\n      <td>27966.00</td>\n      <td>27975.85</td>\n      <td>1404.21402</td>\n    </tr>\n    <tr>\n      <th>2023-04-06 21:00:00</th>\n      <td>27975.85</td>\n      <td>28052.80</td>\n      <td>27957.04</td>\n      <td>27989.16</td>\n      <td>875.15697</td>\n    </tr>\n    <tr>\n      <th>...</th>\n      <td>...</td>\n      <td>...</td>\n      <td>...</td>\n      <td>...</td>\n      <td>...</td>\n    </tr>\n    <tr>\n      <th>2023-04-27 08:00:00</th>\n      <td>28893.84</td>\n      <td>29094.75</td>\n      <td>28780.45</td>\n      <td>28955.43</td>\n      <td>3333.79914</td>\n    </tr>\n    <tr>\n      <th>2023-04-27 09:00:00</th>\n      <td>28955.43</td>\n      <td>29035.08</td>\n      <td>28870.00</td>\n      <td>28931.71</td>\n      <td>2139.13542</td>\n    </tr>\n    <tr>\n      <th>2023-04-27 10:00:00</th>\n      <td>28931.71</td>\n      <td>29035.91</td>\n      <td>28890.00</td>\n      <td>28990.77</td>\n      <td>2115.38753</td>\n    </tr>\n    <tr>\n      <th>2023-04-27 11:00:00</th>\n      <td>28990.76</td>\n      <td>29139.85</td>\n      <td>28882.00</td>\n      <td>28934.21</td>\n      <td>3495.85771</td>\n    </tr>\n    <tr>\n      <th>2023-04-27 12:00:00</th>\n      <td>28934.21</td>\n      <td>28980.00</td>\n      <td>28930.70</td>\n      <td>28977.28</td>\n      <td>315.60133</td>\n    </tr>\n  </tbody>\n</table>\n<p>500 rows × 5 columns</p>\n</div>"
     },
     "execution_count": 117,
     "metadata": {},
     "output_type": "execute_result"
    }
   ],
   "source": [
    "# Get OHLCV (Open-High-Low-Close-Volume) data for BTC/USDT\n",
    "ohlcv = exchange.fetch_ohlcv('BTC/USDT', '1h')\n",
    "\n",
    "# Convert data to pandas DataFrame\n",
    "df = pd.DataFrame(ohlcv, columns=['timestamp', 'open', 'high', 'low', 'close', 'volume'])\n",
    "\n",
    "# Convert timestamp to datetime\n",
    "df['timestamp'] = pd.to_datetime(df['timestamp'], unit='ms')\n",
    "\n",
    "# Set timestamp as index\n",
    "df.set_index('timestamp', inplace=True)\n",
    "\n",
    "# Print DataFrame\n",
    "df\n",
    "\n",
    "df.close.values[-1] # oxirgi narx"
   ],
   "metadata": {
    "collapsed": false
   }
  },
  {
   "cell_type": "code",
   "execution_count": 119,
   "outputs": [
    {
     "data": {
      "text/plain": "28977.28"
     },
     "execution_count": 119,
     "metadata": {},
     "output_type": "execute_result"
    }
   ],
   "source": [],
   "metadata": {
    "collapsed": false
   }
  }
 ],
 "metadata": {
  "kernelspec": {
   "display_name": "Python 3",
   "language": "python",
   "name": "python3"
  },
  "language_info": {
   "codemirror_mode": {
    "name": "ipython",
    "version": 2
   },
   "file_extension": ".py",
   "mimetype": "text/x-python",
   "name": "python",
   "nbconvert_exporter": "python",
   "pygments_lexer": "ipython2",
   "version": "2.7.6"
  }
 },
 "nbformat": 4,
 "nbformat_minor": 0
}
